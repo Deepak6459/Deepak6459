{
 "cells": [
  {
   "cell_type": "markdown",
   "id": "83428569-c5ae-47d1-aacc-79a88dc9c332",
   "metadata": {},
   "source": [
    "File Handling"
   ]
  },
  {
   "cell_type": "code",
   "execution_count": 7,
   "id": "5bdbe9a4-d088-41bd-9686-3ae85566e9af",
   "metadata": {},
   "outputs": [
    {
     "name": "stdout",
     "output_type": "stream",
     "text": [
      "deepa\n",
      "k s\n",
      "oni\n",
      "krishna soni\n",
      "\n"
     ]
    }
   ],
   "source": [
    "file=open(\"d:/msg.txt\",\"r\")  #read function \n",
    "text=file.read(5)\n",
    "print(text)\n",
    "text=file.read(3)\n",
    "print(text)\n",
    "#text=file.read(-1)  # -1 it show remaining charactors\n",
    "text=file.read()\n",
    "print(text)\n",
    "text=file.read(2)\n",
    "print(text)\n",
    "file.close()\n"
   ]
  },
  {
   "cell_type": "code",
   "execution_count": 6,
   "id": "0977223f-5313-4d18-ad18-ff618309e17a",
   "metadata": {},
   "outputs": [
    {
     "name": "stdout",
     "output_type": "stream",
     "text": [
      "deepak soni\n",
      "krishna soni\n",
      "epak soni\n",
      "krishna soni\n",
      "deepa\n"
     ]
    }
   ],
   "source": [
    "file=open(\"d:/msg.txt\",\"r\")\n",
    "text=file.read()\n",
    "print(text)\n",
    "\n",
    "file.seek(2) #seek method change the position of file handling \n",
    "text=file.read()\n",
    "print(text)\n",
    "\n",
    "\n",
    "file.seek(0)  \n",
    "text=file.read(5) #read starting 5 charector\n",
    "print(text)\n",
    "file.close()\n",
    "    "
   ]
  },
  {
   "cell_type": "code",
   "execution_count": null,
   "id": "4252256f-33cb-49a6-8a68-e5e616ccb9ed",
   "metadata": {},
   "outputs": [],
   "source": [
    "file=open(\"d:/msg.txt\",\"r\")\n",
    "text=file.read(3)\n",
    "print(text)\n",
    "\n",
    "x=file.readline() #read till new file will start\n",
    "print(x)\n",
    "\n",
    "y=file.read(5)\n",
    "print(y)\n",
    "file.close()"
   ]
  },
  {
   "cell_type": "code",
   "execution_count": 5,
   "id": "15cb3baa-d0c0-48dd-8b02-7e00ea838a56",
   "metadata": {},
   "outputs": [
    {
     "name": "stdout",
     "output_type": "stream",
     "text": [
      "['deepak soni\\n', 'krishna soni']\n"
     ]
    }
   ],
   "source": [
    "file=open(\"d:/msg.txt\",\"r\")\n",
    "text=file.readlines() #it shows new line start indication \n",
    "print(text)\n",
    "\n",
    "file.close()"
   ]
  },
  {
   "cell_type": "code",
   "execution_count": 4,
   "id": "45d1d8ae-44e3-47ea-9f74-a5f1929773bd",
   "metadata": {},
   "outputs": [
    {
     "name": "stdout",
     "output_type": "stream",
     "text": [
      "deepak soni\n",
      "\n",
      "krishna soniHI20\n"
     ]
    }
   ],
   "source": [
    "file=open(\"d:/msg.txt\",\"r\")\n",
    "\n",
    "for x in file:   #loop is use for read only function\n",
    "    print(x)\n",
    "\n",
    "file.close()"
   ]
  },
  {
   "cell_type": "code",
   "execution_count": 8,
   "id": "1cddf38b-5ace-4f6e-b3ea-3ff031a90b9e",
   "metadata": {},
   "outputs": [
    {
     "name": "stdout",
     "output_type": "stream",
     "text": [
      "python is a funny language\n",
      "it was first launch in 1991\n",
      "bye\n",
      "d\n",
      "dddd\n"
     ]
    }
   ],
   "source": [
    "file=open(\"d:/msg.noida\",\"r\")   #we can create our own file extension \n",
    "text=file.read()\n",
    "print(text)"
   ]
  },
  {
   "cell_type": "code",
   "execution_count": 9,
   "id": "dc856b4a-7585-4ebd-81ce-c4e8a121212d",
   "metadata": {},
   "outputs": [],
   "source": [
    "file=open(\"abc.txt\",\"w\")  #write function \n",
    "file.write(\"mango\\n\")\n",
    "file.flush()   #The flush() method in Python file handling clears the internal buffer of the file\n",
    "file.write(\"apple\\n\")\n",
    "file.close()\n",
    "\n",
    "\n",
    "#file.close()"
   ]
  },
  {
   "cell_type": "code",
   "execution_count": null,
   "id": "7c56aeb7-33b7-4311-9b12-3779204ab799",
   "metadata": {},
   "outputs": [],
   "source": [
    "file=open(\"abc.txt\",\"a\")  #append to add new string \n",
    "file.write(\"\\ndde\\n\")\n",
    "file.flush()\n",
    "file.write(\"ddec\")\n",
    "file.close()"
   ]
  },
  {
   "cell_type": "code",
   "execution_count": null,
   "id": "f73b1ba8-f3c2-44e9-856e-1bbba1339f2e",
   "metadata": {},
   "outputs": [],
   "source": [
    "file=open(\"abcde.txt\",\"x\") #create new fiile but it should be new \n",
    "file.write(\"mango\\n\")\n",
    "file.flush()\n",
    "file.write(\"apple\\n\")\n",
    "file.close()"
   ]
  },
  {
   "cell_type": "code",
   "execution_count": null,
   "id": "81f31198-147d-4352-8ca1-4025976deb78",
   "metadata": {},
   "outputs": [],
   "source": [
    "file=open(\"d:/msg.txt\",\"r+\") #read and write function \n",
    "text=file.read()\n",
    "print(text)\n",
    "file.write(\"HI\")\n",
    "file.close()"
   ]
  },
  {
   "cell_type": "code",
   "execution_count": null,
   "id": "55a13a0a-25bb-48b5-9b1b-7a526f962970",
   "metadata": {},
   "outputs": [],
   "source": [
    "#file=open(\"d:/msg.txt\",\"w+\") #write then read function\n",
    "#file.close()"
   ]
  },
  {
   "cell_type": "code",
   "execution_count": 10,
   "id": "d26297fb-97c6-4eb6-9aca-91fceb1a8996",
   "metadata": {},
   "outputs": [
    {
     "name": "stdout",
     "output_type": "stream",
     "text": [
      "deepak soni\n",
      "krishna soni20\n"
     ]
    }
   ],
   "source": [
    "file=open(\"d:/msg.txt\",\"a+\")\n",
    "file.write(str(20))    #write then read function but do not overwrite \n",
    "file.seek(0)\n",
    "text=file.read()\n",
    "print(text)\n",
    "\n",
    "\n",
    "\n",
    "file.close()\n"
   ]
  },
  {
   "cell_type": "code",
   "execution_count": 1,
   "id": "41341caa-a78f-44d4-82e6-396580aa5b99",
   "metadata": {},
   "outputs": [],
   "source": [
    "#file with block use to close automatically"
   ]
  },
  {
   "cell_type": "code",
   "execution_count": null,
   "id": "9c23e3ed-56ac-4c55-8642-461bd70b8f6d",
   "metadata": {},
   "outputs": [],
   "source": [
    "with open(\"abc.txt\",\"r\") as file:\n",
    "    text=file.read()\n",
    "    print(text)\n",
    "print(\"bye\")"
   ]
  },
  {
   "cell_type": "code",
   "execution_count": null,
   "id": "7bffa0a6-b6a7-46ee-87b4-0a7f751cbb33",
   "metadata": {},
   "outputs": [],
   "source": [
    "file=open(\"abc.txt\") #if we do not define the mode it will automatically open under read mode \n",
    "text=file.read()\n",
    "print(text)\n",
    "file.close()"
   ]
  },
  {
   "cell_type": "code",
   "execution_count": null,
   "id": "4b1fdbdd-edf4-4b21-9a52-ace2defa7222",
   "metadata": {},
   "outputs": [],
   "source": [
    "name=input(\"enter name\")\n",
    "file=open(\"friends.txt\",\"a\")\n",
    "file.write(name+\"\\n\")\n",
    "file.close()"
   ]
  },
  {
   "cell_type": "code",
   "execution_count": 11,
   "id": "e0b1658c-a246-4025-861e-4b2e81c9b20c",
   "metadata": {},
   "outputs": [
    {
     "name": "stdin",
     "output_type": "stream",
     "text": [
      "enter name:  jorge\n"
     ]
    },
    {
     "name": "stdout",
     "output_type": "stream",
     "text": [
      "------------------------\n",
      "deepak soni\n",
      "krishna soni20qqq\n",
      "abhsh\n",
      "akash\n",
      "shivam\n",
      "aaa\n",
      "bbb\n",
      "cccc\n",
      "eeee\n",
      "wwww\n",
      "ppp\n",
      "qqqq\n",
      "mmmm\n",
      "eeee\n",
      "rrrr\n",
      "dddd\n",
      "deepak\n",
      "Name\n",
      "we are\n",
      "rohit\n",
      "shyam\n",
      "jorge\n",
      "\n"
     ]
    }
   ],
   "source": [
    "name=input(\"enter name: \")\n",
    "z=open(\"d:/msg.txt\",\"a\")\n",
    "z.write(name+\"\\n\")\n",
    "z.close()\n",
    "print(\"------------------------\")\n",
    "a=open(\"d:/msg.txt\",\"r\")\n",
    "file=a.read()\n",
    "print(file)"
   ]
  },
  {
   "cell_type": "code",
   "execution_count": null,
   "id": "6bff0770-fdaf-4684-a30b-e9c5b013fe7b",
   "metadata": {},
   "outputs": [],
   "source": []
  }
 ],
 "metadata": {
  "kernelspec": {
   "display_name": "Python 3",
   "language": "python",
   "name": "python3"
  },
  "language_info": {
   "codemirror_mode": {
    "name": "ipython",
    "version": 3
   },
   "file_extension": ".py",
   "mimetype": "text/x-python",
   "name": "python",
   "nbconvert_exporter": "python",
   "pygments_lexer": "ipython3",
   "version": "3.8.8"
  }
 },
 "nbformat": 4,
 "nbformat_minor": 5
}
