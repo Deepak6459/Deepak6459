{
 "cells": [
  {
   "cell_type": "code",
   "execution_count": 1,
   "id": "ef821729-691b-431e-a445-0e5136f0ef44",
   "metadata": {},
   "outputs": [],
   "source": [
    "#attribute"
   ]
  },
  {
   "cell_type": "code",
   "execution_count": 4,
   "id": "fad08be3-7feb-4a6c-8eea-c199ac07916d",
   "metadata": {},
   "outputs": [
    {
     "name": "stdout",
     "output_type": "stream",
     "text": [
      "101\n",
      "101\n"
     ]
    }
   ],
   "source": [
    "class account:\n",
    "    def __init__(self):\n",
    "        self.acn=101\n",
    "        \n",
    "        \n",
    "a1=account()        \n",
    "a2=account()\n",
    "\n",
    "#a1.acn=101\n",
    "#a2.acn=102\n",
    "\n",
    "print(a1.acn)\n",
    "print(a2.acn)"
   ]
  },
  {
   "cell_type": "code",
   "execution_count": 6,
   "id": "42238bf7-c741-44f5-be7e-71afd467c9a0",
   "metadata": {},
   "outputs": [
    {
     "name": "stdout",
     "output_type": "stream",
     "text": [
      "101\n",
      "102\n"
     ]
    }
   ],
   "source": [
    "class account:\n",
    "    def __init__(self,a):\n",
    "        self.acn=a\n",
    "        \n",
    "        \n",
    "a1=account(101)        \n",
    "a2=account(102)\n",
    "\n",
    "print(a1.acn)\n",
    "print(a2.acn)"
   ]
  },
  {
   "cell_type": "code",
   "execution_count": 7,
   "id": "a570cdab-76e5-4083-9eb2-1a1fbdf1a2ce",
   "metadata": {},
   "outputs": [
    {
     "name": "stdout",
     "output_type": "stream",
     "text": [
      "101 1000\n",
      "102 1000\n"
     ]
    }
   ],
   "source": [
    "class account:\n",
    "    def __init__(self,a):\n",
    "        self.acn=a\n",
    "        self.bal=1000\n",
    "        \n",
    "a1=account(101)        \n",
    "a2=account(102)\n",
    "\n",
    "print(a1.acn,a1.bal)\n",
    "print(a2.acn,a2.bal)"
   ]
  },
  {
   "cell_type": "code",
   "execution_count": 10,
   "id": "12a36f9b-92bc-41d4-aa9b-dfe81cd039f6",
   "metadata": {},
   "outputs": [
    {
     "name": "stdout",
     "output_type": "stream",
     "text": [
      "101 1000\n",
      "102 1000\n",
      "101 1500\n",
      "102 1000\n"
     ]
    }
   ],
   "source": [
    "class account:  #to deposit in a1\n",
    "    def __init__(self,a):\n",
    "        self.acn=a\n",
    "        self.bal=1000\n",
    "        \n",
    "    def deposit(self):\n",
    "        self.bal= self.bal+500\n",
    "a1=account(101)        \n",
    "a2=account(102)\n",
    "\n",
    "print(a1.acn,a1.bal)\n",
    "print(a2.acn,a2.bal)\n",
    "a1.deposit()\n",
    "print(a1.acn,a1.bal)\n",
    "print(a2.acn,a2.bal)"
   ]
  },
  {
   "cell_type": "code",
   "execution_count": 12,
   "id": "baf31824-6b4d-42df-a0ab-11447fff64f3",
   "metadata": {},
   "outputs": [
    {
     "name": "stdout",
     "output_type": "stream",
     "text": [
      "101 1000\n",
      "102 1000\n",
      "101 1200\n",
      "102 1200\n"
     ]
    }
   ],
   "source": [
    "class account:  #to deposit in a1\n",
    "    def __init__(self,a):\n",
    "        self.acn=a\n",
    "        self.bal=1000\n",
    "        \n",
    "    def deposit(self,amt):\n",
    "        self.bal= self.bal+amt\n",
    "    def withdraw(self,amt):\n",
    "        self.bal=self.bal-amt\n",
    "        \n",
    "        \n",
    "a1=account(101)        \n",
    "a2=account(102)\n",
    "\n",
    "print(a1.acn,a1.bal)\n",
    "print(a2.acn,a2.bal)\n",
    "a1.deposit(300)\n",
    "a2.deposit(400)\n",
    "a1.withdraw(100)\n",
    "a2.withdraw(200)\n",
    "print(a1.acn,a1.bal)\n",
    "print(a2.acn,a2.bal)"
   ]
  },
  {
   "cell_type": "code",
   "execution_count": 15,
   "id": "5f2cfb85-01ca-44d9-9298-370a9cf3b773",
   "metadata": {},
   "outputs": [
    {
     "name": "stdout",
     "output_type": "stream",
     "text": [
      "101 1000\n",
      "102 1000\n",
      "insufficenet bal\n",
      "101 1200\n",
      "102 1400\n"
     ]
    }
   ],
   "source": [
    "class account:  #to deposit in a1\n",
    "    def __init__(self,a):\n",
    "        self.acn=a\n",
    "        self.bal=1000\n",
    "        \n",
    "    def deposit(self,amt):\n",
    "        self.bal= self.bal+amt\n",
    "        \n",
    "    def withdraw(self,amt):\n",
    "        if(self.bal>=amt):\n",
    "            self.bal=self.bal-amt\n",
    "        else:\n",
    "            print(\"insufficenet bal\")\n",
    "        \n",
    "        \n",
    "        \n",
    "a1=account(101)        \n",
    "a2=account(102)\n",
    "\n",
    "print(a1.acn,a1.bal)\n",
    "print(a2.acn,a2.bal)\n",
    "a1.deposit(300)\n",
    "a2.deposit(400)\n",
    "a1.withdraw(100)\n",
    "a2.withdraw(20000)\n",
    "print(a1.acn,a1.bal)\n",
    "print(a2.acn,a2.bal)"
   ]
  },
  {
   "cell_type": "code",
   "execution_count": 1,
   "id": "e4ed154d-77a2-4e71-af82-485a0eed1409",
   "metadata": {},
   "outputs": [
    {
     "name": "stdout",
     "output_type": "stream",
     "text": [
      "101 2000\n",
      "102 2000\n",
      "101 2200\n",
      "102 2200\n"
     ]
    }
   ],
   "source": [
    "class account:  #to deposit in a1\n",
    "    def __init__(self,a,b=2000):\n",
    "        self.acn=a\n",
    "        self.bal=b\n",
    "        \n",
    "    def deposit(self,amt):\n",
    "        self.bal= self.bal+amt\n",
    "        \n",
    "    def withdraw(self,amt):\n",
    "        if(self.bal>=amt):\n",
    "            self.bal=self.bal-amt\n",
    "        else:\n",
    "            print(\"insufficenet bal\")\n",
    "        \n",
    "        \n",
    "        \n",
    "a1=account(101)        \n",
    "a2=account(102)\n",
    "\n",
    "print(a1.acn,a1.bal)\n",
    "print(a2.acn,a2.bal)\n",
    "a1.deposit(300)\n",
    "a2.deposit(400)\n",
    "a1.withdraw(100)\n",
    "a2.withdraw(200)\n",
    "print(a1.acn,a1.bal)\n",
    "print(a2.acn,a2.bal)"
   ]
  },
  {
   "cell_type": "code",
   "execution_count": 28,
   "id": "cdfefb8b-784d-4c25-9afb-350f71981d0f",
   "metadata": {},
   "outputs": [
    {
     "name": "stdout",
     "output_type": "stream",
     "text": [
      "ABC123\n",
      "PQR321\n",
      "PQR321\n",
      "PQR321\n",
      "XYZ123\n",
      "XYZ123\n"
     ]
    }
   ],
   "source": [
    "class account:  #to deposit in a1\n",
    "    ifsc=\"ABC123\" #class attribute\n",
    "    \n",
    "    \n",
    "    def __init__(self,a,b=2000):\n",
    "        #instance attribute\n",
    "        self.acn=a\n",
    "        self.bal=b\n",
    "        \n",
    "        \n",
    "    def deposit(self,amt):\n",
    "        self.bal= self.bal+amt\n",
    "        \n",
    "    def withdraw(self,amt):\n",
    "        if(self.bal>=amt):\n",
    "            self.bal=self.bal-amt\n",
    "        else:\n",
    "            print(\"insufficient bal\")\n",
    "        \n",
    "a1=account(101)\n",
    "a2=account(102)\n",
    "                             \n",
    "print(account.ifsc)\n",
    "account.ifsc=\"PQR321\"  #to change class attribute \n",
    "print(account.ifsc)\n",
    "print(a1.ifsc)\n",
    "print(a2.ifsc)\n",
    "account.ifsc=\"XYZ123\"\n",
    "print(a1.ifsc)\n",
    "print(a2.ifsc)"
   ]
  },
  {
   "cell_type": "code",
   "execution_count": 32,
   "id": "5f2d03ed-63e3-4a70-8f30-cad387437ea6",
   "metadata": {},
   "outputs": [
    {
     "name": "stdout",
     "output_type": "stream",
     "text": [
      "india\n"
     ]
    }
   ],
   "source": [
    "class test:\n",
    "    x=10\n",
    "    def __init__(self):\n",
    "        self.x=\"india\"\n",
    "        \n",
    "t=test()\n",
    "print(t.x)"
   ]
  },
  {
   "cell_type": "code",
   "execution_count": 38,
   "id": "02ab91bc-4937-4212-bbfa-99b5a3bdf956",
   "metadata": {},
   "outputs": [
    {
     "name": "stdout",
     "output_type": "stream",
     "text": [
      "m1\n",
      "m2\n",
      "m3\n"
     ]
    }
   ],
   "source": [
    "class test():\n",
    "    def m1(self): #instance method\n",
    "        print(\"m1\")\n",
    "        \n",
    "    @classmethod\n",
    "    def m2(cls):   #class method\n",
    "        print(\"m2\")\n",
    "    \n",
    "    @staticmethod\n",
    "    def m3(): #static method\n",
    "        print(\"m3\")\n",
    "\n",
    "t=test()\n",
    "t.m1()  #instance call\n",
    "test.m2() #class meth call\n",
    "test.m3() #static meth call"
   ]
  },
  {
   "cell_type": "code",
   "execution_count": 39,
   "id": "4510b18a-4b44-42d8-ba06-248cba7f949f",
   "metadata": {},
   "outputs": [
    {
     "name": "stdout",
     "output_type": "stream",
     "text": [
      "30\n"
     ]
    }
   ],
   "source": [
    "class calc:   #instance method\n",
    "    def __init__(self):\n",
    "        self.x=10\n",
    "        self.y=20\n",
    "        \n",
    "        \n",
    "    def add(self):\n",
    "        print(self.x + self.y)\n",
    "        \n",
    "c=calc()\n",
    "c.add()"
   ]
  },
  {
   "cell_type": "code",
   "execution_count": 40,
   "id": "17ddf0b2-e8b9-45a2-adb2-f6b947a430bd",
   "metadata": {},
   "outputs": [
    {
     "name": "stdout",
     "output_type": "stream",
     "text": [
      "30\n"
     ]
    }
   ],
   "source": [
    "class calc:   #class method\n",
    "    x=10\n",
    "    y=20\n",
    "        \n",
    "    @classmethod\n",
    "    def add(cls):\n",
    "        print(calc.x+calc.y)  #print(cls.x+cls.y)  , cls contain copy of class calc\n",
    "    \n",
    "        \n",
    "\n",
    "calc.add()"
   ]
  },
  {
   "cell_type": "code",
   "execution_count": 41,
   "id": "80e1e6ab-7580-4696-9ecd-2f9a2a1acf77",
   "metadata": {},
   "outputs": [
    {
     "name": "stdout",
     "output_type": "stream",
     "text": [
      "30\n"
     ]
    }
   ],
   "source": [
    "class calc: #static method\n",
    "        \n",
    "    @staticmethod\n",
    "    def add(x,y):\n",
    "        print(x+y)   \n",
    "        \n",
    "\n",
    "calc.add(10,20)"
   ]
  },
  {
   "cell_type": "code",
   "execution_count": 42,
   "id": "4eeaf5ee-9872-419a-9e12-0c1c7eb9acf9",
   "metadata": {},
   "outputs": [],
   "source": [
    "from datetime import datetime"
   ]
  },
  {
   "cell_type": "code",
   "execution_count": 44,
   "id": "55306272-b710-42af-ad0f-4ee3215e2d05",
   "metadata": {},
   "outputs": [
    {
     "data": {
      "text/plain": [
       "datetime.datetime(2021, 7, 28, 17, 9, 29, 868147)"
      ]
     },
     "execution_count": 44,
     "metadata": {},
     "output_type": "execute_result"
    }
   ],
   "source": [
    "datetime.now()"
   ]
  },
  {
   "cell_type": "code",
   "execution_count": 46,
   "id": "9fd57686-fd3d-4168-9beb-55f847b8dedf",
   "metadata": {},
   "outputs": [
    {
     "name": "stdout",
     "output_type": "stream",
     "text": [
      "Help on class datetime in module datetime:\n",
      "\n",
      "class datetime(date)\n",
      " |  datetime(year, month, day[, hour[, minute[, second[, microsecond[,tzinfo]]]]])\n",
      " |  \n",
      " |  The year, month and day arguments are required. tzinfo may be None, or an\n",
      " |  instance of a tzinfo subclass. The remaining arguments may be ints.\n",
      " |  \n",
      " |  Method resolution order:\n",
      " |      datetime\n",
      " |      date\n",
      " |      builtins.object\n",
      " |  \n",
      " |  Methods defined here:\n",
      " |  \n",
      " |  __add__(self, value, /)\n",
      " |      Return self+value.\n",
      " |  \n",
      " |  __eq__(self, value, /)\n",
      " |      Return self==value.\n",
      " |  \n",
      " |  __ge__(self, value, /)\n",
      " |      Return self>=value.\n",
      " |  \n",
      " |  __getattribute__(self, name, /)\n",
      " |      Return getattr(self, name).\n",
      " |  \n",
      " |  __gt__(self, value, /)\n",
      " |      Return self>value.\n",
      " |  \n",
      " |  __hash__(self, /)\n",
      " |      Return hash(self).\n",
      " |  \n",
      " |  __le__(self, value, /)\n",
      " |      Return self<=value.\n",
      " |  \n",
      " |  __lt__(self, value, /)\n",
      " |      Return self<value.\n",
      " |  \n",
      " |  __ne__(self, value, /)\n",
      " |      Return self!=value.\n",
      " |  \n",
      " |  __radd__(self, value, /)\n",
      " |      Return value+self.\n",
      " |  \n",
      " |  __reduce__(...)\n",
      " |      __reduce__() -> (cls, state)\n",
      " |  \n",
      " |  __reduce_ex__(...)\n",
      " |      __reduce_ex__(proto) -> (cls, state)\n",
      " |  \n",
      " |  __repr__(self, /)\n",
      " |      Return repr(self).\n",
      " |  \n",
      " |  __rsub__(self, value, /)\n",
      " |      Return value-self.\n",
      " |  \n",
      " |  __str__(self, /)\n",
      " |      Return str(self).\n",
      " |  \n",
      " |  __sub__(self, value, /)\n",
      " |      Return self-value.\n",
      " |  \n",
      " |  astimezone(...)\n",
      " |      tz -> convert to local time in new timezone tz\n",
      " |  \n",
      " |  ctime(...)\n",
      " |      Return ctime() style string.\n",
      " |  \n",
      " |  date(...)\n",
      " |      Return date object with same year, month and day.\n",
      " |  \n",
      " |  dst(...)\n",
      " |      Return self.tzinfo.dst(self).\n",
      " |  \n",
      " |  isoformat(...)\n",
      " |      [sep] -> string in ISO 8601 format, YYYY-MM-DDT[HH[:MM[:SS[.mmm[uuu]]]]][+HH:MM].\n",
      " |      sep is used to separate the year from the time, and defaults to 'T'.\n",
      " |      The optional argument timespec specifies the number of additional terms\n",
      " |      of the time to include. Valid options are 'auto', 'hours', 'minutes',\n",
      " |      'seconds', 'milliseconds' and 'microseconds'.\n",
      " |  \n",
      " |  replace(...)\n",
      " |      Return datetime with new specified fields.\n",
      " |  \n",
      " |  time(...)\n",
      " |      Return time object with same time but with tzinfo=None.\n",
      " |  \n",
      " |  timestamp(...)\n",
      " |      Return POSIX timestamp as float.\n",
      " |  \n",
      " |  timetuple(...)\n",
      " |      Return time tuple, compatible with time.localtime().\n",
      " |  \n",
      " |  timetz(...)\n",
      " |      Return time object with same time and tzinfo.\n",
      " |  \n",
      " |  tzname(...)\n",
      " |      Return self.tzinfo.tzname(self).\n",
      " |  \n",
      " |  utcoffset(...)\n",
      " |      Return self.tzinfo.utcoffset(self).\n",
      " |  \n",
      " |  utctimetuple(...)\n",
      " |      Return UTC time tuple, compatible with time.localtime().\n",
      " |  \n",
      " |  ----------------------------------------------------------------------\n",
      " |  Class methods defined here:\n",
      " |  \n",
      " |  combine(...) from builtins.type\n",
      " |      date, time -> datetime with same date and time fields\n",
      " |  \n",
      " |  fromisoformat(...) from builtins.type\n",
      " |      string -> datetime from datetime.isoformat() output\n",
      " |  \n",
      " |  fromtimestamp(...) from builtins.type\n",
      " |      timestamp[, tz] -> tz's local time from POSIX timestamp.\n",
      " |  \n",
      " |  now(tz=None) from builtins.type\n",
      " |      Returns new datetime object representing current time local to tz.\n",
      " |      \n",
      " |        tz\n",
      " |          Timezone object.\n",
      " |      \n",
      " |      If no tz is specified, uses local timezone.\n",
      " |  \n",
      " |  strptime(...) from builtins.type\n",
      " |      string, format -> new datetime parsed from a string (like time.strptime()).\n",
      " |  \n",
      " |  utcfromtimestamp(...) from builtins.type\n",
      " |      Construct a naive UTC datetime from a POSIX timestamp.\n",
      " |  \n",
      " |  utcnow(...) from builtins.type\n",
      " |      Return a new datetime representing UTC day and time.\n",
      " |  \n",
      " |  ----------------------------------------------------------------------\n",
      " |  Static methods defined here:\n",
      " |  \n",
      " |  __new__(*args, **kwargs) from builtins.type\n",
      " |      Create and return a new object.  See help(type) for accurate signature.\n",
      " |  \n",
      " |  ----------------------------------------------------------------------\n",
      " |  Data descriptors defined here:\n",
      " |  \n",
      " |  fold\n",
      " |  \n",
      " |  hour\n",
      " |  \n",
      " |  microsecond\n",
      " |  \n",
      " |  minute\n",
      " |  \n",
      " |  second\n",
      " |  \n",
      " |  tzinfo\n",
      " |  \n",
      " |  ----------------------------------------------------------------------\n",
      " |  Data and other attributes defined here:\n",
      " |  \n",
      " |  max = datetime.datetime(9999, 12, 31, 23, 59, 59, 999999)\n",
      " |  \n",
      " |  min = datetime.datetime(1, 1, 1, 0, 0)\n",
      " |  \n",
      " |  resolution = datetime.timedelta(microseconds=1)\n",
      " |  \n",
      " |  ----------------------------------------------------------------------\n",
      " |  Methods inherited from date:\n",
      " |  \n",
      " |  __format__(...)\n",
      " |      Formats self with strftime.\n",
      " |  \n",
      " |  isocalendar(...)\n",
      " |      Return a 3-tuple containing ISO year, week number, and weekday.\n",
      " |  \n",
      " |  isoweekday(...)\n",
      " |      Return the day of the week represented by the date.\n",
      " |      Monday == 1 ... Sunday == 7\n",
      " |  \n",
      " |  strftime(...)\n",
      " |      format -> strftime() style string.\n",
      " |  \n",
      " |  toordinal(...)\n",
      " |      Return proleptic Gregorian ordinal.  January 1 of year 1 is day 1.\n",
      " |  \n",
      " |  weekday(...)\n",
      " |      Return the day of the week represented by the date.\n",
      " |      Monday == 0 ... Sunday == 6\n",
      " |  \n",
      " |  ----------------------------------------------------------------------\n",
      " |  Class methods inherited from date:\n",
      " |  \n",
      " |  fromisocalendar(...) from builtins.type\n",
      " |      int, int, int -> Construct a date from the ISO year, week number and weekday.\n",
      " |      \n",
      " |      This is the inverse of the date.isocalendar() function\n",
      " |  \n",
      " |  fromordinal(...) from builtins.type\n",
      " |      int -> date corresponding to a proleptic Gregorian ordinal.\n",
      " |  \n",
      " |  today(...) from builtins.type\n",
      " |      Current date or datetime:  same as self.__class__.fromtimestamp(time.time()).\n",
      " |  \n",
      " |  ----------------------------------------------------------------------\n",
      " |  Data descriptors inherited from date:\n",
      " |  \n",
      " |  day\n",
      " |  \n",
      " |  month\n",
      " |  \n",
      " |  year\n",
      "\n"
     ]
    }
   ],
   "source": [
    "help(datetime)"
   ]
  },
  {
   "cell_type": "code",
   "execution_count": null,
   "id": "b4655239-ceaf-45ae-8309-b49777aa387c",
   "metadata": {},
   "outputs": [],
   "source": []
  }
 ],
 "metadata": {
  "kernelspec": {
   "display_name": "Python 3",
   "language": "python",
   "name": "python3"
  },
  "language_info": {
   "codemirror_mode": {
    "name": "ipython",
    "version": 3
   },
   "file_extension": ".py",
   "mimetype": "text/x-python",
   "name": "python",
   "nbconvert_exporter": "python",
   "pygments_lexer": "ipython3",
   "version": "3.8.8"
  }
 },
 "nbformat": 4,
 "nbformat_minor": 5
}
