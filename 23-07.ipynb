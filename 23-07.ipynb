{
 "cells": [
  {
   "cell_type": "code",
   "execution_count": 9,
   "id": "d46fde51-43cd-4682-bcbd-36122c01800c",
   "metadata": {},
   "outputs": [
    {
     "name": "stdout",
     "output_type": "stream",
     "text": [
      "[2, 4, 6, 8]\n"
     ]
    }
   ],
   "source": [
    "def check(num):\n",
    "    if (num%2==0):\n",
    "        return True\n",
    "    else:\n",
    "        return False\n",
    "\n",
    "l=[1,2,3,4,5,6,7,8]\n",
    "l2=[]\n",
    "for x in l:\n",
    "    b=check(x)\n",
    "    if(b==True):\n",
    "        l2.append(x)\n",
    "print(l2)"
   ]
  },
  {
   "cell_type": "markdown",
   "id": "fa670ab8-6539-4b0a-999a-b2c298f57223",
   "metadata": {},
   "source": [
    "# FILTER FUNCTION"
   ]
  },
  {
   "cell_type": "code",
   "execution_count": 10,
   "id": "e5e4351e-5373-4aca-a04e-c9d6db3aee13",
   "metadata": {},
   "outputs": [
    {
     "name": "stdout",
     "output_type": "stream",
     "text": [
      "[2, 4, 6, 8]\n"
     ]
    }
   ],
   "source": [
    "f=filter(check,l)\n",
    "print(list(f))"
   ]
  },
  {
   "cell_type": "code",
   "execution_count": 11,
   "id": "aad97d48-7242-47e0-883a-03bd9e450786",
   "metadata": {},
   "outputs": [
    {
     "name": "stdout",
     "output_type": "stream",
     "text": [
      "[1, 2, 3, 4, 5, 6, 7, 8]\n"
     ]
    }
   ],
   "source": [
    "def check(num):\n",
    "    if (num%2==0):\n",
    "        return True\n",
    "    else:\n",
    "        return True\n",
    "    \n",
    "l=[1,2,3,4,5,6,7,8]\n",
    "f=filter(check,l)\n",
    "print(list(f))"
   ]
  },
  {
   "cell_type": "code",
   "execution_count": 12,
   "id": "956c713e-e78f-48b9-8a2d-a02150330555",
   "metadata": {},
   "outputs": [
    {
     "name": "stdout",
     "output_type": "stream",
     "text": [
      "[1, 3, 5, 7]\n"
     ]
    }
   ],
   "source": [
    "def check(num):\n",
    "    if (num%2==0):\n",
    "        return False\n",
    "    else:\n",
    "        return True\n",
    "    \n",
    "l=[1,2,3,4,5,6,7,8]\n",
    "f=filter(check,l)\n",
    "print(list(f))"
   ]
  },
  {
   "cell_type": "code",
   "execution_count": 13,
   "id": "9b845b03-6236-4aa5-9c47-f689fc772d47",
   "metadata": {},
   "outputs": [
    {
     "name": "stdout",
     "output_type": "stream",
     "text": [
      "[]\n"
     ]
    }
   ],
   "source": [
    "def check(num):   #Filter only return true value, it is only consider boolean value \n",
    "    if (num%2==0):\n",
    "        return False\n",
    "    else:\n",
    "        return False\n",
    "    \n",
    "l=[1,2,3,4,5,6,7,8]\n",
    "f=filter(check,l)\n",
    "print(list(f))"
   ]
  },
  {
   "cell_type": "code",
   "execution_count": 14,
   "id": "ab6f86a0-125e-4f61-8509-cf79d1ff0e03",
   "metadata": {},
   "outputs": [
    {
     "name": "stdout",
     "output_type": "stream",
     "text": [
      "[1, 2, 3, 4, 5, 6, 7, 8]\n"
     ]
    }
   ],
   "source": [
    "def check(num):   \n",
    "    if (num%2==0):\n",
    "        return 2020\n",
    "    else:\n",
    "        return 2021\n",
    "    \n",
    "l=[1,2,3,4,5,6,7,8]\n",
    "f=filter(check,l)\n",
    "print(list(f))"
   ]
  },
  {
   "cell_type": "code",
   "execution_count": 15,
   "id": "92a494fb-80a4-4814-a439-2050ac258d46",
   "metadata": {},
   "outputs": [
    {
     "name": "stdout",
     "output_type": "stream",
     "text": [
      "[1, 3, 5, 7]\n"
     ]
    }
   ],
   "source": [
    "def check(num):   \n",
    "    if (num%2==0):\n",
    "        return 0\n",
    "    else:\n",
    "        return 5\n",
    "    \n",
    "l=[1,2,3,4,5,6,7,8]\n",
    "f=filter(check,l)\n",
    "print(list(f))"
   ]
  },
  {
   "cell_type": "code",
   "execution_count": 19,
   "id": "343c31a2-dc36-4a03-8dba-4186a19ee14d",
   "metadata": {},
   "outputs": [
    {
     "name": "stdout",
     "output_type": "stream",
     "text": [
      "['sone', 'monu', 'chintu', 'virat kohli']\n"
     ]
    }
   ],
   "source": [
    "l=[\"sone\",\"monu\",\"chintu\",\"virat kohli\", \"\"]\n",
    "f=filter(len,l)  #it is will take lenght of value , blank consider 0 value as a false\n",
    "print(list(f))\n"
   ]
  },
  {
   "cell_type": "markdown",
   "id": "11d7dcb1-4fe5-4dff-be1a-31b180aab1bd",
   "metadata": {},
   "source": [
    "# LAMDA KEYWORDS"
   ]
  },
  {
   "cell_type": "code",
   "execution_count": 20,
   "id": "ebd36b15-4ce2-4a96-824b-3dbfbc415538",
   "metadata": {},
   "outputs": [
    {
     "data": {
      "text/plain": [
       "6"
      ]
     },
     "execution_count": 20,
     "metadata": {},
     "output_type": "execute_result"
    }
   ],
   "source": [
    "#lambda :expression                               #inline defination provided \n",
    "x=lambda:2*3\n",
    "x()"
   ]
  },
  {
   "cell_type": "code",
   "execution_count": 22,
   "id": "4b99f562-6938-44eb-b0f9-a32b7a87528a",
   "metadata": {},
   "outputs": [
    {
     "data": {
      "text/plain": [
       "15"
      ]
     },
     "execution_count": 22,
     "metadata": {},
     "output_type": "execute_result"
    }
   ],
   "source": [
    "#lambda para1, para2, .......:expression\n",
    "x=lambda a,b:a*b\n",
    "x(3,5)"
   ]
  },
  {
   "cell_type": "code",
   "execution_count": 26,
   "id": "2fae13e7-527e-4538-9e35-fa1e889435e3",
   "metadata": {},
   "outputs": [
    {
     "name": "stdout",
     "output_type": "stream",
     "text": [
      "[2, 4, 6, 8]\n"
     ]
    }
   ],
   "source": [
    "l=[1,2,3,4,5,6,8]\n",
    "f=filter(lambda num:num%2==0,l)  #lambda can be use sigle time in his journey\n",
    "print(list(f))"
   ]
  },
  {
   "cell_type": "code",
   "execution_count": 27,
   "id": "23396c37-dac7-4f03-9e99-88e12702dfd0",
   "metadata": {},
   "outputs": [
    {
     "name": "stdout",
     "output_type": "stream",
     "text": [
      "[1, 4, 9, 16, 25, 36, 64]\n"
     ]
    }
   ],
   "source": [
    "l=[1,2,3,4,5,6,8]\n",
    "f=map(lambda num:num*num,l)\n",
    "print(list(f))"
   ]
  },
  {
   "cell_type": "markdown",
   "id": "dc96d36a-bbd6-4174-a009-9ec1f1a2319d",
   "metadata": {},
   "source": [
    "# DECORATOR FUNCTION "
   ]
  },
  {
   "cell_type": "code",
   "execution_count": 46,
   "id": "8d19015b-83fe-491e-94fd-3f6d3d9c6058",
   "metadata": {},
   "outputs": [
    {
     "name": "stdout",
     "output_type": "stream",
     "text": [
      "2021-07-23 16:54:34.270289\n",
      "yello\n",
      "red\n",
      "2021-07-23 16:54:34.270289\n",
      "mange\n",
      "apple\n"
     ]
    }
   ],
   "source": [
    "def showtime(fun):\n",
    "    from datetime import datetime\n",
    "    def nested():\n",
    "        dt=datetime.now()\n",
    "        print(dt)\n",
    "        fun()\n",
    "    return nested\n",
    "\n",
    "def colors():  \n",
    "    print(\"yello\")\n",
    "    print(\"red\")\n",
    "\n",
    "def fruits():\n",
    "    print(\"mange\")\n",
    "    print(\"apple\")\n",
    "    \n",
    "colors1=showtime(colors)\n",
    "fruits1=showtime(fruits)\n",
    "colors1()\n",
    "fruits1()"
   ]
  },
  {
   "cell_type": "code",
   "execution_count": 48,
   "id": "204c4e6c-ec1d-41e5-952b-9d28fa2ecfed",
   "metadata": {},
   "outputs": [
    {
     "name": "stdout",
     "output_type": "stream",
     "text": [
      "2021-07-23 16:55:35.271587\n",
      "yello\n",
      "red\n"
     ]
    }
   ],
   "source": [
    "def showtime(fun):\n",
    "    from datetime import datetime\n",
    "    def nested():\n",
    "        dt=datetime.now()\n",
    "        print(dt)\n",
    "        fun()\n",
    "    return nested\n",
    "\n",
    "@showtime  #it is use to decore or call the showtime function\n",
    "def colors():  \n",
    "    print(\"yello\")\n",
    "    print(\"red\")\n",
    "\n",
    "def fruits():\n",
    "    print(\"mange\")\n",
    "    print(\"apple\")\n",
    "    \n",
    "colors()"
   ]
  },
  {
   "cell_type": "code",
   "execution_count": null,
   "id": "aa845d5f-950a-4385-a2d4-3b9e8990e81e",
   "metadata": {},
   "outputs": [],
   "source": []
  }
 ],
 "metadata": {
  "kernelspec": {
   "display_name": "Python 3",
   "language": "python",
   "name": "python3"
  },
  "language_info": {
   "codemirror_mode": {
    "name": "ipython",
    "version": 3
   },
   "file_extension": ".py",
   "mimetype": "text/x-python",
   "name": "python",
   "nbconvert_exporter": "python",
   "pygments_lexer": "ipython3",
   "version": "3.8.8"
  }
 },
 "nbformat": 4,
 "nbformat_minor": 5
}
