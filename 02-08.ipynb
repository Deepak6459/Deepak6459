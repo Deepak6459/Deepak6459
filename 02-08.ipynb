{
 "cells": [
  {
   "cell_type": "code",
   "execution_count": 4,
   "id": "5988f9af-19ed-4bb8-b3a5-d32bd5f7cf2a",
   "metadata": {},
   "outputs": [
    {
     "name": "stdout",
     "output_type": "stream",
     "text": [
      "<__main__.point2d object at 0x0000000007BB0760>\n",
      "<__main__.point2d object at 0x0000000007BB0910>\n"
     ]
    }
   ],
   "source": [
    "class point2d:\n",
    "    def __init__(self,a,b):\n",
    "        self.x=a\n",
    "        self.y=b\n",
    "        \n",
    "p1=point2d(2,5)\n",
    "p2=point2d(5,5)\n",
    "print(p1)\n",
    "print(p2)"
   ]
  },
  {
   "cell_type": "code",
   "execution_count": 5,
   "id": "c75da726-61c7-4b8c-914f-db2b8b1fa3c6",
   "metadata": {},
   "outputs": [
    {
     "name": "stdout",
     "output_type": "stream",
     "text": [
      "hi\n",
      "hi\n"
     ]
    }
   ],
   "source": [
    "class point2d:\n",
    "    def __init__(self,a,b):\n",
    "        self.x=a\n",
    "        self.y=b\n",
    "        \n",
    "    def __str__(self):\n",
    "        return \"hi\"\n",
    "        \n",
    "p1=point2d(2,5)\n",
    "p2=point2d(5,5)\n",
    "print(p1)\n",
    "print(p2)"
   ]
  },
  {
   "cell_type": "code",
   "execution_count": 8,
   "id": "55d35c9c-17cc-4ffc-8a66-aaabf5c58dae",
   "metadata": {},
   "outputs": [
    {
     "name": "stdout",
     "output_type": "stream",
     "text": [
      "(2,5)\n",
      "(5,5)\n"
     ]
    }
   ],
   "source": [
    "class point2d:\n",
    "    def __init__(self,a,b):\n",
    "        self.x=a\n",
    "        self.y=b\n",
    "        \n",
    "    def __str__(self):\n",
    "        return f\"({self.x},{self.y})\"\n",
    "        \n",
    "p1=point2d(2,5)\n",
    "p2=point2d(5,5)\n",
    "print(p1)\n",
    "print(p2)"
   ]
  },
  {
   "cell_type": "code",
   "execution_count": 9,
   "id": "9a1809ec-35e4-4d9f-87a0-27784233ae68",
   "metadata": {},
   "outputs": [
    {
     "ename": "TypeError",
     "evalue": "unsupported operand type(s) for +: 'point2d' and 'point2d'",
     "output_type": "error",
     "traceback": [
      "\u001b[1;31m---------------------------------------------------------------------------\u001b[0m",
      "\u001b[1;31mTypeError\u001b[0m                                 Traceback (most recent call last)",
      "\u001b[1;32m<ipython-input-9-e6f8d61aa8ee>\u001b[0m in \u001b[0;36m<module>\u001b[1;34m\u001b[0m\n\u001b[1;32m----> 1\u001b[1;33m \u001b[0mp1\u001b[0m\u001b[1;33m+\u001b[0m\u001b[0mp2\u001b[0m\u001b[1;33m\u001b[0m\u001b[1;33m\u001b[0m\u001b[0m\n\u001b[0m",
      "\u001b[1;31mTypeError\u001b[0m: unsupported operand type(s) for +: 'point2d' and 'point2d'"
     ]
    }
   ],
   "source": [
    "p1+p2"
   ]
  },
  {
   "cell_type": "code",
   "execution_count": 17,
   "id": "638010a1-8f02-4007-b760-a3f35406fcf2",
   "metadata": {},
   "outputs": [
    {
     "name": "stdout",
     "output_type": "stream",
     "text": [
      "(2,5)\n",
      "(5,5)\n",
      "(7, 10)\n",
      "(5, 10)\n",
      "(-3, 0)\n"
     ]
    }
   ],
   "source": [
    "class point2d:\n",
    "    def __init__(self,a,b):\n",
    "        self.x=a\n",
    "        self.y=b\n",
    "        \n",
    "    def __str__(self):\n",
    "        return f\"({self.x},{self.y})\"\n",
    "    \n",
    "    def __add__(self,other):\n",
    "        return self.x+other.x,self.y+other.y\n",
    "        \n",
    "    def __sub__(self,other):\n",
    "        return self.x-other.x,self.y-other.y\n",
    "        \n",
    "p1=point2d(2,5)\n",
    "p2=point2d(5,5)\n",
    "p3=point2d(3,5)\n",
    "print(p1)\n",
    "print(p2)\n",
    "\n",
    "print(p1+p2)  #p1.__add__(p1,p2)\n",
    "print(p3+p1)\n",
    "print(p1-p2)"
   ]
  },
  {
   "cell_type": "markdown",
   "id": "26ed225b-db3f-4b8c-b969-58cbf77211ab",
   "metadata": {},
   "source": [
    "# Data Encapsulation or Data hiding"
   ]
  },
  {
   "cell_type": "code",
   "execution_count": 18,
   "id": "fdc7f895-ea25-4587-96ee-9ffa56f8ccfa",
   "metadata": {},
   "outputs": [
    {
     "name": "stdout",
     "output_type": "stream",
     "text": [
      "1000\n"
     ]
    }
   ],
   "source": [
    "class emp:\n",
    "    def __init__(self):\n",
    "        self.sal=1000\n",
    "        \n",
    "        \n",
    "e=emp()\n",
    "print(e.sal)"
   ]
  },
  {
   "cell_type": "code",
   "execution_count": 19,
   "id": "42c49c3a-5e6d-496a-96c6-11ec365379c9",
   "metadata": {},
   "outputs": [
    {
     "name": "stdout",
     "output_type": "stream",
     "text": [
      "1000\n",
      "600\n"
     ]
    }
   ],
   "source": [
    "class emp:\n",
    "    def __init__(self):\n",
    "        self.sal=1000\n",
    "        \n",
    "        \n",
    "e=emp()\n",
    "print(e.sal)\n",
    "e.sal=600\n",
    "print(e.sal)"
   ]
  },
  {
   "cell_type": "code",
   "execution_count": 20,
   "id": "4a3e28bc-fcfb-4274-aff0-bcba4b97ac24",
   "metadata": {},
   "outputs": [
    {
     "ename": "AttributeError",
     "evalue": "'emp' object has no attribute '__sal'",
     "output_type": "error",
     "traceback": [
      "\u001b[1;31m---------------------------------------------------------------------------\u001b[0m",
      "\u001b[1;31mAttributeError\u001b[0m                            Traceback (most recent call last)",
      "\u001b[1;32m<ipython-input-20-0a50d77aab0a>\u001b[0m in \u001b[0;36m<module>\u001b[1;34m\u001b[0m\n\u001b[0;32m      5\u001b[0m \u001b[1;33m\u001b[0m\u001b[0m\n\u001b[0;32m      6\u001b[0m \u001b[0me\u001b[0m\u001b[1;33m=\u001b[0m\u001b[0memp\u001b[0m\u001b[1;33m(\u001b[0m\u001b[1;33m)\u001b[0m\u001b[1;33m\u001b[0m\u001b[1;33m\u001b[0m\u001b[0m\n\u001b[1;32m----> 7\u001b[1;33m \u001b[0mprint\u001b[0m\u001b[1;33m(\u001b[0m\u001b[0me\u001b[0m\u001b[1;33m.\u001b[0m\u001b[0m__sal\u001b[0m\u001b[1;33m)\u001b[0m\u001b[1;33m\u001b[0m\u001b[1;33m\u001b[0m\u001b[0m\n\u001b[0m\u001b[0;32m      8\u001b[0m \u001b[1;33m\u001b[0m\u001b[0m\n",
      "\u001b[1;31mAttributeError\u001b[0m: 'emp' object has no attribute '__sal'"
     ]
    }
   ],
   "source": [
    "class emp:\n",
    "    def __init__(self):\n",
    "        self.__sal=1000  #to hiding attribute by double __\n",
    "        \n",
    "        \n",
    "e=emp()\n",
    "print(e.__sal)\n",
    "        "
   ]
  },
  {
   "cell_type": "code",
   "execution_count": 6,
   "id": "e889ae97-926b-4e52-9c48-245216abaa33",
   "metadata": {},
   "outputs": [
    {
     "name": "stdout",
     "output_type": "stream",
     "text": [
      "1000\n",
      "22000\n"
     ]
    }
   ],
   "source": [
    "class emp:\n",
    "    def __init__(self):\n",
    "        self.__sal=1000  #to hiding attribute by double __\n",
    "    def getsal(self): #it is used to print define value in method \n",
    "        return self.__sal\n",
    "    def setsal(self,s):\n",
    "        self.__sal=s\n",
    "        \n",
    "e=emp()\n",
    "#print(e.__sal)\n",
    "print(e.getsal())\n",
    "e.setsal(22000)\n",
    "print(e.getsal())"
   ]
  },
  {
   "cell_type": "code",
   "execution_count": 8,
   "id": "a427753e-5dc0-4fe6-8114-6c1f5b61e14d",
   "metadata": {},
   "outputs": [
    {
     "name": "stdout",
     "output_type": "stream",
     "text": [
      "1000\n",
      "22000\n",
      "6000\n"
     ]
    }
   ],
   "source": [
    "class emp:\n",
    "    def __init__(self):\n",
    "        self.__sal=1000  \n",
    "    def getsal(self):  \n",
    "        return self.__sal\n",
    "    def setsal(self,s):\n",
    "        if (s>self.__sal):  #we can also apply if else condition\n",
    "            self.__sal=s\n",
    "        \n",
    "e=emp()\n",
    "#print(e.__sal)\n",
    "print(e.getsal())\n",
    "e.setsal(22000)\n",
    "print(e.getsal())\n",
    "e.setsal(6000)\n",
    "print(e.getsal())"
   ]
  },
  {
   "cell_type": "markdown",
   "id": "0eb3991b-3b58-4f4c-807c-c783bf84d96b",
   "metadata": {},
   "source": [
    "# Concrete class and abstract class"
   ]
  },
  {
   "cell_type": "code",
   "execution_count": 11,
   "id": "c5e63921-fa40-4988-afff-8fd82441ee32",
   "metadata": {},
   "outputs": [],
   "source": [
    "from abc import *\n",
    "class shape(ABC):\n",
    "    \n",
    "    @abstractmethod\n",
    "    def area(self):\n",
    "        pass"
   ]
  },
  {
   "cell_type": "code",
   "execution_count": 13,
   "id": "694b4bb8-57ac-4136-9e78-d3b3f6a2b0ad",
   "metadata": {},
   "outputs": [
    {
     "ename": "TypeError",
     "evalue": "Can't instantiate abstract class shape with abstract methods area",
     "output_type": "error",
     "traceback": [
      "\u001b[1;31m---------------------------------------------------------------------------\u001b[0m",
      "\u001b[1;31mTypeError\u001b[0m                                 Traceback (most recent call last)",
      "\u001b[1;32m<ipython-input-13-1168a3bebd99>\u001b[0m in \u001b[0;36m<module>\u001b[1;34m\u001b[0m\n\u001b[1;32m----> 1\u001b[1;33m \u001b[0ms\u001b[0m\u001b[1;33m=\u001b[0m\u001b[0mshape\u001b[0m\u001b[1;33m(\u001b[0m\u001b[1;33m)\u001b[0m  \u001b[1;31m#we cannot create object for abstract class\u001b[0m\u001b[1;33m\u001b[0m\u001b[1;33m\u001b[0m\u001b[0m\n\u001b[0m",
      "\u001b[1;31mTypeError\u001b[0m: Can't instantiate abstract class shape with abstract methods area"
     ]
    }
   ],
   "source": [
    "s=shape()  #we cannot create object for abstract class"
   ]
  },
  {
   "cell_type": "code",
   "execution_count": 17,
   "id": "c1c769ea-a5f6-462b-a1f5-d7a2dcc072ca",
   "metadata": {},
   "outputs": [
    {
     "name": "stdout",
     "output_type": "stream",
     "text": [
      "pi*r*r\n"
     ]
    }
   ],
   "source": [
    "from abc import *\n",
    "class shape(ABC):\n",
    "    \n",
    "    @abstractmethod\n",
    "    def area(self):\n",
    "        pass\n",
    "    \n",
    "class circle(shape):  #concrete class\n",
    "    def area(self):\n",
    "        print(\"pi*r*r\")\n",
    "        \n",
    "c=circle()\n",
    "c.area()"
   ]
  },
  {
   "cell_type": "code",
   "execution_count": 19,
   "id": "5f27c9a4-598a-4f89-9436-5133c756383f",
   "metadata": {},
   "outputs": [
    {
     "ename": "TypeError",
     "evalue": "Can't instantiate abstract class triangle with abstract methods area",
     "output_type": "error",
     "traceback": [
      "\u001b[1;31m---------------------------------------------------------------------------\u001b[0m",
      "\u001b[1;31mTypeError\u001b[0m                                 Traceback (most recent call last)",
      "\u001b[1;32m<ipython-input-19-d6d235e110ec>\u001b[0m in \u001b[0;36m<module>\u001b[1;34m\u001b[0m\n\u001b[0;32m      2\u001b[0m     \u001b[1;32mpass\u001b[0m\u001b[1;33m\u001b[0m\u001b[1;33m\u001b[0m\u001b[0m\n\u001b[0;32m      3\u001b[0m \u001b[1;33m\u001b[0m\u001b[0m\n\u001b[1;32m----> 4\u001b[1;33m \u001b[0mt\u001b[0m\u001b[1;33m=\u001b[0m\u001b[0mtriangle\u001b[0m\u001b[1;33m(\u001b[0m\u001b[1;33m)\u001b[0m\u001b[1;33m\u001b[0m\u001b[1;33m\u001b[0m\u001b[0m\n\u001b[0m",
      "\u001b[1;31mTypeError\u001b[0m: Can't instantiate abstract class triangle with abstract methods area"
     ]
    }
   ],
   "source": [
    "class triangle(shape):  #child class need to follow parent class methods\n",
    "    pass\n",
    "\n",
    "t=triangle()"
   ]
  },
  {
   "cell_type": "code",
   "execution_count": null,
   "id": "38ab39b1-12db-4aac-8e3a-33b84e0e69fd",
   "metadata": {},
   "outputs": [],
   "source": []
  }
 ],
 "metadata": {
  "kernelspec": {
   "display_name": "Python 3",
   "language": "python",
   "name": "python3"
  },
  "language_info": {
   "codemirror_mode": {
    "name": "ipython",
    "version": 3
   },
   "file_extension": ".py",
   "mimetype": "text/x-python",
   "name": "python",
   "nbconvert_exporter": "python",
   "pygments_lexer": "ipython3",
   "version": "3.8.8"
  }
 },
 "nbformat": 4,
 "nbformat_minor": 5
}
