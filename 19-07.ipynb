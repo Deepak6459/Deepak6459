{
 "cells": [
  {
   "cell_type": "code",
   "execution_count": 1,
   "id": "0d6502bf-fa41-434e-9ed0-c4b1653b7cf4",
   "metadata": {},
   "outputs": [
    {
     "name": "stdout",
     "output_type": "stream",
     "text": [
      "name is deepak\n"
     ]
    }
   ],
   "source": [
    "print(\"name is deepak\")"
   ]
  },
  {
   "cell_type": "code",
   "execution_count": 1,
   "id": "b5c65f56-67cb-479f-ba75-d73b3cde7ee8",
   "metadata": {},
   "outputs": [],
   "source": [
    "def add(a,b):\n",
    "    print(a+b)"
   ]
  },
  {
   "cell_type": "code",
   "execution_count": 2,
   "id": "b0918e1a-e3de-4d1d-a2ca-68a2ea561520",
   "metadata": {},
   "outputs": [
    {
     "name": "stdout",
     "output_type": "stream",
     "text": [
      "6\n"
     ]
    }
   ],
   "source": [
    "add(2,4)"
   ]
  },
  {
   "cell_type": "code",
   "execution_count": 3,
   "id": "1c5d8532-d0b7-4af6-a335-6da615cad6a5",
   "metadata": {},
   "outputs": [
    {
     "name": "stdout",
     "output_type": "stream",
     "text": [
      "55\n"
     ]
    }
   ],
   "source": [
    "add(22,33)"
   ]
  },
  {
   "cell_type": "code",
   "execution_count": null,
   "id": "200cef72-cf20-4482-8c33-511c80ea2b3d",
   "metadata": {},
   "outputs": [],
   "source": []
  }
 ],
 "metadata": {
  "kernelspec": {
   "display_name": "Python 3",
   "language": "python",
   "name": "python3"
  },
  "language_info": {
   "codemirror_mode": {
    "name": "ipython",
    "version": 3
   },
   "file_extension": ".py",
   "mimetype": "text/x-python",
   "name": "python",
   "nbconvert_exporter": "python",
   "pygments_lexer": "ipython3",
   "version": "3.8.8"
  }
 },
 "nbformat": 4,
 "nbformat_minor": 5
}
