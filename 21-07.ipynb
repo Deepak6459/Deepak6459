{
 "cells": [
  {
   "cell_type": "code",
   "execution_count": 3,
   "id": "40beaed9-2203-4c81-b615-8043ffc87eb8",
   "metadata": {},
   "outputs": [
    {
     "name": "stdout",
     "output_type": "stream",
     "text": [
      "this is show\n"
     ]
    }
   ],
   "source": [
    "def show(x):\n",
    "    print(\"this is show\")\n",
    "    \n",
    "def disp():\n",
    "    print(\"this is disp\")\n",
    "    \n",
    "show(10)  #we can also pass function in place of argument"
   ]
  },
  {
   "cell_type": "code",
   "execution_count": 8,
   "id": "f031f8f6-86e2-46c6-ac64-24ffeaf60661",
   "metadata": {},
   "outputs": [
    {
     "name": "stdout",
     "output_type": "stream",
     "text": [
      "this is show\n",
      "this is disp\n"
     ]
    }
   ],
   "source": [
    "def show(x):\n",
    "    print(\"this is show\")\n",
    "    x()\n",
    "def disp():\n",
    "    print(\"this is disp\")\n",
    "    \n",
    "show(disp)"
   ]
  },
  {
   "cell_type": "code",
   "execution_count": 1,
   "id": "86c850bc-28e8-49f5-b9b5-bfaf7a8d527a",
   "metadata": {},
   "outputs": [
    {
     "name": "stdout",
     "output_type": "stream",
     "text": [
      "this is show\n",
      "this is f2\n",
      "this is show\n",
      "this is disp\n"
     ]
    }
   ],
   "source": [
    "def show(x):\n",
    "    print(\"this is show\")\n",
    "    x()   #this is use to call different function is show func\n",
    "def disp():\n",
    "    print(\"this is disp\")\n",
    "    \n",
    "def f2():\n",
    "    print(\"this is f2\")\n",
    "    \n",
    "    \n",
    "show(f2)\n",
    "show(disp)"
   ]
  },
  {
   "cell_type": "code",
   "execution_count": 2,
   "id": "2eb36731-f8cc-4466-9a0c-851d6da7eaf3",
   "metadata": {},
   "outputs": [
    {
     "name": "stdout",
     "output_type": "stream",
     "text": [
      "this is f2\n",
      "this is f2\n"
     ]
    }
   ],
   "source": [
    "x=f2  #func can be store in variable\n",
    "f2()\n",
    "x()"
   ]
  },
  {
   "cell_type": "code",
   "execution_count": 12,
   "id": "a2949c83-0d23-4a82-a3de-d3a20f355949",
   "metadata": {},
   "outputs": [
    {
     "name": "stdout",
     "output_type": "stream",
     "text": [
      "this is fun\n",
      "this is f1\n"
     ]
    }
   ],
   "source": [
    "def fun():\n",
    "    print(\"this is fun\")\n",
    "    return f1\n",
    "    \n",
    "    \n",
    "def f1():\n",
    "    print(\"this is f1\")\n",
    "    \n",
    "x=fun()\n",
    "x()"
   ]
  },
  {
   "cell_type": "code",
   "execution_count": 14,
   "id": "7e3553d4-f944-4614-b573-bd9f49f6f78f",
   "metadata": {},
   "outputs": [],
   "source": [
    "#Function chaining"
   ]
  },
  {
   "cell_type": "code",
   "execution_count": 21,
   "id": "6da16036-ee6c-4a64-ac01-ddca3a835f9b",
   "metadata": {},
   "outputs": [
    {
     "name": "stdout",
     "output_type": "stream",
     "text": [
      "this is f1\n",
      "this is f2\n",
      "this is f3\n",
      "10\n"
     ]
    }
   ],
   "source": [
    "def f1():\n",
    "    print(\"this is f1\")\n",
    "    return f2\n",
    "\n",
    "def f2():\n",
    "    print(\"this is f2\")\n",
    "    return f3\n",
    "    \n",
    "def f3():\n",
    "    print(\"this is f3\")\n",
    "    return 10\n",
    "\n",
    "x=f1()\n",
    "y=x()\n",
    "z=y()\n",
    "print(z)"
   ]
  },
  {
   "cell_type": "code",
   "execution_count": 23,
   "id": "306cc0dd-e0d2-4f14-b726-4dc1ffefe0be",
   "metadata": {},
   "outputs": [
    {
     "name": "stdout",
     "output_type": "stream",
     "text": [
      "this is f1\n",
      "this is f2\n",
      "this is f3\n",
      "10\n"
     ]
    }
   ],
   "source": [
    "z=f1()()()\n",
    "print(z)"
   ]
  },
  {
   "cell_type": "code",
   "execution_count": 24,
   "id": "54d9167a-7519-4a21-b394-0ad180dbdae7",
   "metadata": {},
   "outputs": [],
   "source": [
    "#nested function "
   ]
  },
  {
   "cell_type": "code",
   "execution_count": 25,
   "id": "0e7528ca-8d95-477a-8909-df3fd6a9c430",
   "metadata": {},
   "outputs": [
    {
     "name": "stdout",
     "output_type": "stream",
     "text": [
      "this is f2\n",
      "this is f1\n",
      "this is f2 again\n",
      "this is f1\n"
     ]
    }
   ],
   "source": [
    "def f1():\n",
    "    print(\"this is f1\")\n",
    "    \n",
    "def f2():\n",
    "    print(\"this is f2\")\n",
    "    f1()\n",
    "    print(\"this is f2 again\")\n",
    "    f1()\n",
    "    \n",
    "    \n",
    "f2()"
   ]
  },
  {
   "cell_type": "code",
   "execution_count": 27,
   "id": "076442ed-aae7-42fd-b929-27877291fd54",
   "metadata": {},
   "outputs": [
    {
     "name": "stdout",
     "output_type": "stream",
     "text": [
      "this is f3\n",
      "this is f1\n"
     ]
    }
   ],
   "source": [
    "def f1():\n",
    "    print(\"this is f1\")\n",
    "    \n",
    "def f2():\n",
    "    print(\"this is f2\")\n",
    "    f1()\n",
    "    print(\"this is f2 again\")\n",
    "    f1()\n",
    "    \n",
    "def f3():\n",
    "    print(\"this is f3\")\n",
    "    f1()\n",
    "f3()"
   ]
  },
  {
   "cell_type": "code",
   "execution_count": 2,
   "id": "90c11c37-75aa-4ca8-b4aa-fa25d7080298",
   "metadata": {},
   "outputs": [
    {
     "name": "stdout",
     "output_type": "stream",
     "text": [
      "this is f3\n"
     ]
    },
    {
     "ename": "NameError",
     "evalue": "name 'f1' is not defined",
     "output_type": "error",
     "traceback": [
      "\u001b[1;31m---------------------------------------------------------------------------\u001b[0m",
      "\u001b[1;31mNameError\u001b[0m                                 Traceback (most recent call last)",
      "\u001b[1;32m<ipython-input-2-549488e067f9>\u001b[0m in \u001b[0;36m<module>\u001b[1;34m\u001b[0m\n\u001b[0;32m     10\u001b[0m     \u001b[0mprint\u001b[0m\u001b[1;33m(\u001b[0m\u001b[1;34m\"this is f3\"\u001b[0m\u001b[1;33m)\u001b[0m\u001b[1;33m\u001b[0m\u001b[1;33m\u001b[0m\u001b[0m\n\u001b[0;32m     11\u001b[0m     \u001b[0mf1\u001b[0m\u001b[1;33m(\u001b[0m\u001b[1;33m)\u001b[0m\u001b[1;33m\u001b[0m\u001b[1;33m\u001b[0m\u001b[0m\n\u001b[1;32m---> 12\u001b[1;33m \u001b[0mf3\u001b[0m\u001b[1;33m(\u001b[0m\u001b[1;33m)\u001b[0m\u001b[1;33m\u001b[0m\u001b[1;33m\u001b[0m\u001b[0m\n\u001b[0m",
      "\u001b[1;32m<ipython-input-2-549488e067f9>\u001b[0m in \u001b[0;36mf3\u001b[1;34m()\u001b[0m\n\u001b[0;32m      9\u001b[0m \u001b[1;32mdef\u001b[0m \u001b[0mf3\u001b[0m\u001b[1;33m(\u001b[0m\u001b[1;33m)\u001b[0m\u001b[1;33m:\u001b[0m\u001b[1;33m\u001b[0m\u001b[1;33m\u001b[0m\u001b[0m\n\u001b[0;32m     10\u001b[0m     \u001b[0mprint\u001b[0m\u001b[1;33m(\u001b[0m\u001b[1;34m\"this is f3\"\u001b[0m\u001b[1;33m)\u001b[0m\u001b[1;33m\u001b[0m\u001b[1;33m\u001b[0m\u001b[0m\n\u001b[1;32m---> 11\u001b[1;33m     \u001b[0mf1\u001b[0m\u001b[1;33m(\u001b[0m\u001b[1;33m)\u001b[0m\u001b[1;33m\u001b[0m\u001b[1;33m\u001b[0m\u001b[0m\n\u001b[0m\u001b[0;32m     12\u001b[0m \u001b[0mf3\u001b[0m\u001b[1;33m(\u001b[0m\u001b[1;33m)\u001b[0m\u001b[1;33m\u001b[0m\u001b[1;33m\u001b[0m\u001b[0m\n",
      "\u001b[1;31mNameError\u001b[0m: name 'f1' is not defined"
     ]
    }
   ],
   "source": [
    "def f2():  #f1 function can not be use anywhere\n",
    "    def f1():\n",
    "        print(\"this is f1\")\n",
    "    print(\"this is f2\")\n",
    "    f1()\n",
    "    print(\"this is f2 again\")\n",
    "    f1()\n",
    "    \n",
    "def f3():\n",
    "    print(\"this is f3\")\n",
    "    f1()\n",
    "f3()\n",
    "f1()"
   ]
  },
  {
   "cell_type": "code",
   "execution_count": 1,
   "id": "832562df-c16a-4805-b5bb-73de24bf7b41",
   "metadata": {},
   "outputs": [
    {
     "name": "stdout",
     "output_type": "stream",
     "text": [
      "this is f1 outer\n"
     ]
    },
    {
     "ename": "NameError",
     "evalue": "name 'f2' is not defined",
     "output_type": "error",
     "traceback": [
      "\u001b[1;31m---------------------------------------------------------------------------\u001b[0m",
      "\u001b[1;31mNameError\u001b[0m                                 Traceback (most recent call last)",
      "\u001b[1;32m<ipython-input-1-6baad1dd61ea>\u001b[0m in \u001b[0;36m<module>\u001b[1;34m\u001b[0m\n\u001b[0;32m      5\u001b[0m \u001b[1;33m\u001b[0m\u001b[0m\n\u001b[0;32m      6\u001b[0m \u001b[0mf1\u001b[0m\u001b[1;33m(\u001b[0m\u001b[1;33m)\u001b[0m\u001b[1;33m\u001b[0m\u001b[1;33m\u001b[0m\u001b[0m\n\u001b[1;32m----> 7\u001b[1;33m \u001b[0mf2\u001b[0m\u001b[1;33m(\u001b[0m\u001b[1;33m)\u001b[0m\u001b[1;33m\u001b[0m\u001b[1;33m\u001b[0m\u001b[0m\n\u001b[0m\u001b[0;32m      8\u001b[0m \u001b[1;33m\u001b[0m\u001b[0m\n",
      "\u001b[1;31mNameError\u001b[0m: name 'f2' is not defined"
     ]
    }
   ],
   "source": [
    "\n",
    "    \n",
    "def f1():\n",
    "    def f2():\n",
    "        print(\"this is f2 nested\")\n",
    "    print(\"this is f1 outer\")\n",
    "\n",
    "f1()\n",
    "f2()\n",
    "    "
   ]
  },
  {
   "cell_type": "code",
   "execution_count": 2,
   "id": "8898dbd7-3902-41cc-b966-aaab3a935402",
   "metadata": {},
   "outputs": [
    {
     "name": "stdout",
     "output_type": "stream",
     "text": [
      "this is f1 outer\n",
      "this is f2 nested\n"
     ]
    }
   ],
   "source": [
    "def f1():\n",
    "    def f2():\n",
    "        print(\"this is f2 nested\")\n",
    "    print(\"this is f1 outer\")\n",
    "    return f2\n",
    "\n",
    "x=f1()\n",
    "x()"
   ]
  },
  {
   "cell_type": "code",
   "execution_count": 4,
   "id": "d9c9f80c-d09a-4d0a-b6d6-aebeedfc2f73",
   "metadata": {},
   "outputs": [
    {
     "name": "stdout",
     "output_type": "stream",
     "text": [
      "this is f1\n",
      "this is f2 10\n"
     ]
    }
   ],
   "source": [
    "def f1():\n",
    "    print(\"this is f1\")\n",
    "    a=10\n",
    "    def f2():\n",
    "        print(\"this is f2\",a)\n",
    "    return f2\n",
    "\n",
    "x=f1()\n",
    "x()"
   ]
  },
  {
   "cell_type": "code",
   "execution_count": 6,
   "id": "eb0f0b63-d004-4165-9eaf-f5e44670f24a",
   "metadata": {},
   "outputs": [
    {
     "name": "stdout",
     "output_type": "stream",
     "text": [
      "this is f1\n",
      "this is f2 10\n",
      "this is f2 10\n"
     ]
    }
   ],
   "source": [
    "def f1():\n",
    "    print(\"this is f1\")\n",
    "    a=10\n",
    "    def f2():     #closer function only those who refer outer function's varible\n",
    "        print(\"this is f2\",a) \n",
    "    return f2\n",
    "\n",
    "x=f1()\n",
    "x()\n",
    "del f1\n",
    "#f1()\n",
    "x()"
   ]
  },
  {
   "cell_type": "code",
   "execution_count": 7,
   "id": "e7c37237-4f8e-4e92-b63d-72ac89917230",
   "metadata": {},
   "outputs": [
    {
     "ename": "TypeError",
     "evalue": "'float' object cannot be interpreted as an integer",
     "output_type": "error",
     "traceback": [
      "\u001b[1;31m---------------------------------------------------------------------------\u001b[0m",
      "\u001b[1;31mTypeError\u001b[0m                                 Traceback (most recent call last)",
      "\u001b[1;32m<ipython-input-7-c9e223701816>\u001b[0m in \u001b[0;36m<module>\u001b[1;34m\u001b[0m\n\u001b[0;32m      1\u001b[0m \u001b[1;31m#generator function\u001b[0m\u001b[1;33m\u001b[0m\u001b[1;33m\u001b[0m\u001b[1;33m\u001b[0m\u001b[0m\n\u001b[0;32m      2\u001b[0m \u001b[1;33m\u001b[0m\u001b[0m\n\u001b[1;32m----> 3\u001b[1;33m \u001b[1;32mfor\u001b[0m \u001b[0mx\u001b[0m \u001b[1;32min\u001b[0m \u001b[0mrange\u001b[0m\u001b[1;33m(\u001b[0m\u001b[1;36m1\u001b[0m\u001b[1;33m,\u001b[0m\u001b[1;36m10\u001b[0m\u001b[1;33m,\u001b[0m\u001b[1;36m.1\u001b[0m\u001b[1;33m)\u001b[0m\u001b[1;33m:\u001b[0m\u001b[1;33m\u001b[0m\u001b[1;33m\u001b[0m\u001b[0m\n\u001b[0m\u001b[0;32m      4\u001b[0m     \u001b[0mprint\u001b[0m\u001b[1;33m(\u001b[0m\u001b[0mx\u001b[0m\u001b[1;33m)\u001b[0m\u001b[1;33m\u001b[0m\u001b[1;33m\u001b[0m\u001b[0m\n",
      "\u001b[1;31mTypeError\u001b[0m: 'float' object cannot be interpreted as an integer"
     ]
    }
   ],
   "source": [
    "#generator function\n",
    "\n",
    "for x in range(1,10,.1): #cannot be use float funtion \n",
    "    print(x)"
   ]
  },
  {
   "cell_type": "code",
   "execution_count": 8,
   "id": "ea9c5275-1bdc-41bc-ae8e-e4839b45c445",
   "metadata": {},
   "outputs": [
    {
     "name": "stdout",
     "output_type": "stream",
     "text": [
      "1\n",
      "2\n",
      "3\n",
      "4\n"
     ]
    }
   ],
   "source": [
    "def myrange(start,end):\n",
    "    while(start<end):\n",
    "        yield start\n",
    "        start+=1\n",
    "        \n",
    "for x in myrange(1,5):\n",
    "    print(x)"
   ]
  },
  {
   "cell_type": "code",
   "execution_count": 11,
   "id": "361c9eef-337e-4810-8403-f00764fb85f0",
   "metadata": {},
   "outputs": [
    {
     "name": "stdout",
     "output_type": "stream",
     "text": [
      "11\n",
      "12\n",
      "13\n",
      "14\n",
      "15\n"
     ]
    }
   ],
   "source": [
    "for x in myrange(11,16):\n",
    "    print(x)"
   ]
  },
  {
   "cell_type": "code",
   "execution_count": 15,
   "id": "9b9f8c68-935f-4c6a-ab19-99fc0535650e",
   "metadata": {},
   "outputs": [
    {
     "name": "stdout",
     "output_type": "stream",
     "text": [
      "1.1\n",
      "2.1\n",
      "3.1\n",
      "4.1\n",
      "5.1\n",
      "6.1\n",
      "7.1\n",
      "8.1\n",
      "9.1\n"
     ]
    }
   ],
   "source": [
    "for x in myrange(1.1,9.2):\n",
    "    print(x)"
   ]
  },
  {
   "cell_type": "code",
   "execution_count": 20,
   "id": "402a4d0b-6fd0-479b-85e0-4adb8412077d",
   "metadata": {},
   "outputs": [
    {
     "name": "stdout",
     "output_type": "stream",
     "text": [
      "1\n",
      "3\n"
     ]
    }
   ],
   "source": [
    "def myrange(start,end,step):\n",
    "    while(start<end):\n",
    "        yield start\n",
    "        start+=step\n",
    "        \n",
    "for x in myrange(1,5,2):\n",
    "    print(x)"
   ]
  },
  {
   "cell_type": "code",
   "execution_count": 21,
   "id": "cd54566f-54ad-4c60-a357-f65c23547e8e",
   "metadata": {},
   "outputs": [
    {
     "name": "stdout",
     "output_type": "stream",
     "text": [
      "1\n",
      "2\n",
      "3\n",
      "4\n"
     ]
    }
   ],
   "source": [
    "seq=myrange(1,5,1)\n",
    "for x in seq:\n",
    "    print(x)"
   ]
  },
  {
   "cell_type": "code",
   "execution_count": 22,
   "id": "ad452fd8-05b7-49f9-9351-2b6f1711d88a",
   "metadata": {},
   "outputs": [],
   "source": [
    "#map function "
   ]
  },
  {
   "cell_type": "code",
   "execution_count": 32,
   "id": "21f98853-9f97-4257-8255-6fe524b18544",
   "metadata": {},
   "outputs": [
    {
     "name": "stdout",
     "output_type": "stream",
     "text": [
      "[4, 4, 6, 11]\n",
      "['SONU', 'MONU', 'CHINTU', 'VIRAT KOHLI']\n"
     ]
    }
   ],
   "source": [
    "l=[\"sonu\",\"monu\",\"chintu\",\"virat kohli\"] #to find len of each string\n",
    "m=map(len,l)  #contain loop\n",
    "print(list(m))\n",
    "#print(tuple(m))\n",
    "#print(set(m)) #duplicas not support\n",
    "x=map(str.upper,l)\n",
    "print(list(x))\n",
    "\n"
   ]
  },
  {
   "cell_type": "code",
   "execution_count": 34,
   "id": "1414dd65-d46d-4751-850d-c2a296ae3006",
   "metadata": {},
   "outputs": [
    {
     "name": "stdout",
     "output_type": "stream",
     "text": [
      "[3.3166247903554, 4.69041575982343, 6.0, 7.0, 7.416198487095663]\n"
     ]
    }
   ],
   "source": [
    "i=[11,22,36,49,55]\n",
    "import math\n",
    "m=map(math.sqrt,i)\n",
    "print(list(m))"
   ]
  },
  {
   "cell_type": "code",
   "execution_count": 35,
   "id": "c1cf8f6f-e56a-4c74-a944-19346d9748cb",
   "metadata": {},
   "outputs": [
    {
     "name": "stdout",
     "output_type": "stream",
     "text": [
      "[4.47213595499958, 4.58257569495584, 4.69041575982343, 4.795831523312719, 4.898979485566356, 5.0, 5.0990195135927845, 5.196152422706632, 5.291502622129181, 5.385164807134504, 5.477225575051661, 5.5677643628300215, 5.656854249492381, 5.744562646538029, 5.830951894845301, 5.916079783099616, 6.0, 6.082762530298219, 6.164414002968976, 6.244997998398398, 6.324555320336759, 6.4031242374328485, 6.48074069840786, 6.557438524302, 6.6332495807108, 6.708203932499369, 6.782329983125268, 6.855654600401044, 6.928203230275509, 7.0]\n"
     ]
    }
   ],
   "source": [
    "import math\n",
    "m=map(math.sqrt,range(20,50))\n",
    "print(list(m))"
   ]
  },
  {
   "cell_type": "code",
   "execution_count": 37,
   "id": "8a676004-f9a1-47f0-8643-08dc2cf1b495",
   "metadata": {},
   "outputs": [
    {
     "name": "stdout",
     "output_type": "stream",
     "text": [
      "['P', 'Y', 'T', 'H', 'O', 'N']\n"
     ]
    }
   ],
   "source": [
    "m=map(str.upper,\"python\")\n",
    "print(list(m))"
   ]
  },
  {
   "cell_type": "code",
   "execution_count": 38,
   "id": "34c92f33-b2ff-4d61-9b15-65a10b620f85",
   "metadata": {},
   "outputs": [
    {
     "name": "stdout",
     "output_type": "stream",
     "text": [
      "[0, 1, 4, 9, 16]\n"
     ]
    }
   ],
   "source": [
    "def sqr(x):\n",
    "    return x*x\n",
    "\n",
    "print(list(map(sqr,range(5))))"
   ]
  },
  {
   "cell_type": "code",
   "execution_count": null,
   "id": "0393ad73-2ef0-409f-8f0f-cc57b2f2fa50",
   "metadata": {},
   "outputs": [],
   "source": []
  }
 ],
 "metadata": {
  "kernelspec": {
   "display_name": "Python 3",
   "language": "python",
   "name": "python3"
  },
  "language_info": {
   "codemirror_mode": {
    "name": "ipython",
    "version": 3
   },
   "file_extension": ".py",
   "mimetype": "text/x-python",
   "name": "python",
   "nbconvert_exporter": "python",
   "pygments_lexer": "ipython3",
   "version": "3.8.8"
  }
 },
 "nbformat": 4,
 "nbformat_minor": 5
}
