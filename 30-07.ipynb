{
 "cells": [
  {
   "cell_type": "markdown",
   "id": "a6c10b55-2416-4ed6-bbf0-4db732c6ea9d",
   "metadata": {},
   "source": [
    "# inheritance"
   ]
  },
  {
   "cell_type": "code",
   "execution_count": 3,
   "id": "709df683-e1ac-4d51-813f-7604a7b34c47",
   "metadata": {},
   "outputs": [
    {
     "name": "stdout",
     "output_type": "stream",
     "text": [
      "calling....\n"
     ]
    }
   ],
   "source": [
    "class telephone():\n",
    "    def call(self):\n",
    "        print(\"calling....\")\n",
    "        \n",
    "t=telephone()\n",
    "t.call()"
   ]
  },
  {
   "cell_type": "code",
   "execution_count": 4,
   "id": "80141e3b-5d74-487d-9740-474c1318e191",
   "metadata": {},
   "outputs": [
    {
     "name": "stdout",
     "output_type": "stream",
     "text": [
      "calling....\n",
      "msg.....\n"
     ]
    }
   ],
   "source": [
    "class mobile():\n",
    "    def call(self):\n",
    "        print(\"calling....\")\n",
    "        \n",
    "    def msg(self):\n",
    "        print(\"msg.....\")\n",
    "        \n",
    "        \n",
    "x=mobile()\n",
    "x.call()\n",
    "x.msg()"
   ]
  },
  {
   "cell_type": "code",
   "execution_count": 7,
   "id": "2947df37-661e-4b0d-8974-2aa3df1f0852",
   "metadata": {},
   "outputs": [
    {
     "name": "stdout",
     "output_type": "stream",
     "text": [
      "calling....\n",
      "msg.....\n"
     ]
    }
   ],
   "source": [
    "class mobile(telephone):  #inheritance use, we can use telephone in mobile class\n",
    "    \n",
    "    def msg(self):\n",
    "        print(\"msg.....\")\n",
    "        \n",
    "        \n",
    "x=mobile()\n",
    "x.call()\n",
    "x.msg()"
   ]
  },
  {
   "cell_type": "markdown",
   "id": "3edcb55f-117c-4bd4-8132-3546042665f5",
   "metadata": {},
   "source": [
    "# single lable inheritance "
   ]
  },
  {
   "cell_type": "code",
   "execution_count": 9,
   "id": "941b4b22-4064-4b35-a9e2-9579ea68a95c",
   "metadata": {},
   "outputs": [
    {
     "name": "stdout",
     "output_type": "stream",
     "text": [
      "calling....\n",
      "msg.....\n"
     ]
    }
   ],
   "source": [
    "class telephone():\n",
    "    def call(self):\n",
    "        print(\"calling....\")\n",
    "        \n",
    "class mobile(telephone): \n",
    "    \n",
    "    def msg(self):\n",
    "        print(\"msg.....\") \n",
    "        \n",
    "x=mobile()\n",
    "x.call()\n",
    "x.msg()\n",
    "        "
   ]
  },
  {
   "cell_type": "markdown",
   "id": "0a1b96f3-a253-469d-814f-c61103425d6e",
   "metadata": {},
   "source": [
    "# multi lable inheritance"
   ]
  },
  {
   "cell_type": "code",
   "execution_count": 13,
   "id": "c25fd768-1860-4db8-9e13-61e3e665864f",
   "metadata": {},
   "outputs": [
    {
     "name": "stdout",
     "output_type": "stream",
     "text": [
      "calling....\n",
      "msg.....\n",
      "download app\n"
     ]
    }
   ],
   "source": [
    "class telephone():\n",
    "    def call(self):\n",
    "        print(\"calling....\")\n",
    "        \n",
    "class mobile(telephone): \n",
    "    \n",
    "    def msg(self):\n",
    "        print(\"msg.....\") \n",
    "        \n",
    "        \n",
    "class smartphone(mobile):\n",
    "    def downloadapp(self):\n",
    "        print(\"download app\")\n",
    "        \n",
    "        \n",
    "z=smartphone()\n",
    "z.call()\n",
    "z.msg()\n",
    "z.downloadapp()"
   ]
  },
  {
   "cell_type": "markdown",
   "id": "d25aa1df-61f0-434e-916c-bd84237c2ffa",
   "metadata": {},
   "source": [
    "# multiple inheritance"
   ]
  },
  {
   "cell_type": "code",
   "execution_count": 15,
   "id": "11d52461-efec-4528-83b3-e788e9e391ab",
   "metadata": {},
   "outputs": [
    {
     "name": "stdout",
     "output_type": "stream",
     "text": [
      "calling....\n",
      "photo.....\n",
      "msg.....\n"
     ]
    }
   ],
   "source": [
    "class telephone():\n",
    "    def call(self):\n",
    "        print(\"calling....\")\n",
    "        \n",
    "class camera():\n",
    "    def photo(self):\n",
    "        print(\"photo.....\")\n",
    "        \n",
    "        \n",
    "class mobile(telephone,camera):\n",
    "     def msg(self):\n",
    "        print(\"msg.....\") \n",
    "        \n",
    "        \n",
    "x=mobile()\n",
    "x.call()\n",
    "x.photo()\n",
    "x.msg()"
   ]
  },
  {
   "cell_type": "code",
   "execution_count": 17,
   "id": "9e27ca42-9368-4aaf-8b28-87579fdd5b39",
   "metadata": {},
   "outputs": [
    {
     "name": "stdout",
     "output_type": "stream",
     "text": [
      "m1 in a\n",
      "m2 in a\n",
      "m3 in b\n",
      "m4 in c\n"
     ]
    }
   ],
   "source": [
    "class a():\n",
    "    def m1(self):\n",
    "        print(\"m1 in a\")\n",
    "        \n",
    "    def m2(self):\n",
    "        print(\"m2 in a\")\n",
    "        \n",
    "class b():\n",
    "    def m2(self):\n",
    "        print(\"m2 in b\")\n",
    "            \n",
    "    def m3(self):\n",
    "        print(\"m3 in b\")\n",
    "        \n",
    "class c(a,b):\n",
    "    def m4(self):\n",
    "        print(\"m4 in c\")\n",
    "        \n",
    "        \n",
    "obj=c()   #MRO=method resolution order\n",
    "obj.m1()\n",
    "obj.m2()\n",
    "obj.m3()\n",
    "obj.m4()"
   ]
  },
  {
   "cell_type": "markdown",
   "id": "11825779-92ff-4bb7-9691-2456e6338480",
   "metadata": {},
   "source": [
    "# hybride inheritence"
   ]
  },
  {
   "cell_type": "code",
   "execution_count": 22,
   "id": "722b3ece-b106-4f81-a00a-5982f5ff6db8",
   "metadata": {},
   "outputs": [
    {
     "name": "stdout",
     "output_type": "stream",
     "text": [
      "m1 in a\n",
      "m2 in b\n",
      "m3 in c\n"
     ]
    }
   ],
   "source": [
    "class a():\n",
    "    def m1(self):\n",
    "        print(\"m1 in a\")\n",
    "class b(a):\n",
    "    def m2(self):\n",
    "        print(\"m2 in b\")\n",
    "class d():\n",
    "    def m1(self):\n",
    "        print(\"m1 in d\")\n",
    "        \n",
    "class c(b,d):\n",
    "    def m3(self):\n",
    "        print(\"m3 in c\")\n",
    "        \n",
    "obj=c()\n",
    "obj.m1()\n",
    "obj.m2()\n",
    "obj.m3()"
   ]
  },
  {
   "cell_type": "markdown",
   "id": "1757a947-15cf-4a0d-a009-2cd500e05dbc",
   "metadata": {},
   "source": [
    "# hierarchical inheritance"
   ]
  },
  {
   "cell_type": "code",
   "execution_count": 28,
   "id": "649fac31-a267-45aa-86cc-2e222a452329",
   "metadata": {},
   "outputs": [
    {
     "name": "stdout",
     "output_type": "stream",
     "text": [
      "thinking\n",
      "eating\n",
      "study\n"
     ]
    }
   ],
   "source": [
    "class person():    #also called as class person(object): / object class is a root class / \n",
    "    def thinking(self):\n",
    "        print(\"thinking\")\n",
    "    def eating(self):\n",
    "        print(\"eating\")\n",
    "        \n",
    "class actor(person):\n",
    "    def acting(self):\n",
    "        print(\"acting\")\n",
    "        \n",
    "        \n",
    "class student(person):\n",
    "    def study(self):\n",
    "        print(\"study\")\n",
    "    \n",
    "    \n",
    "a=student()\n",
    "a.thinking()\n",
    "a.eating()\n",
    "a.study()"
   ]
  },
  {
   "cell_type": "code",
   "execution_count": 29,
   "id": "ab9b1448-e7e1-458f-8570-18160dd3c665",
   "metadata": {},
   "outputs": [
    {
     "name": "stdout",
     "output_type": "stream",
     "text": [
      "this is constructor\n"
     ]
    }
   ],
   "source": [
    "class test():\n",
    "    def __init__(self):\n",
    "        print(\"this is constructor\")\n",
    "        \n",
    "t=test()"
   ]
  },
  {
   "cell_type": "code",
   "execution_count": 31,
   "id": "c1b7559a-0730-437d-8978-ef45c436785e",
   "metadata": {},
   "outputs": [],
   "source": [
    "class test():  #if we do no define constructor, then by defult test class having constructor called as object\n",
    "    pass\n",
    "\n",
    "t=test()"
   ]
  },
  {
   "cell_type": "code",
   "execution_count": 32,
   "id": "73e9314a-f255-4cf4-aad7-91cad4fd1068",
   "metadata": {},
   "outputs": [
    {
     "name": "stdout",
     "output_type": "stream",
     "text": [
      "Help on class object in module builtins:\n",
      "\n",
      "class object\n",
      " |  The base class of the class hierarchy.\n",
      " |  \n",
      " |  When called, it accepts no arguments and returns a new featureless\n",
      " |  instance that has no instance attributes and cannot be given any.\n",
      " |  \n",
      " |  Built-in subclasses:\n",
      " |      async_generator\n",
      " |      BaseException\n",
      " |      builtin_function_or_method\n",
      " |      bytearray\n",
      " |      ... and 109 other subclasses\n",
      " |  \n",
      " |  Methods defined here:\n",
      " |  \n",
      " |  __delattr__(self, name, /)\n",
      " |      Implement delattr(self, name).\n",
      " |  \n",
      " |  __dir__(self, /)\n",
      " |      Default dir() implementation.\n",
      " |  \n",
      " |  __eq__(self, value, /)\n",
      " |      Return self==value.\n",
      " |  \n",
      " |  __format__(self, format_spec, /)\n",
      " |      Default object formatter.\n",
      " |  \n",
      " |  __ge__(self, value, /)\n",
      " |      Return self>=value.\n",
      " |  \n",
      " |  __getattribute__(self, name, /)\n",
      " |      Return getattr(self, name).\n",
      " |  \n",
      " |  __gt__(self, value, /)\n",
      " |      Return self>value.\n",
      " |  \n",
      " |  __hash__(self, /)\n",
      " |      Return hash(self).\n",
      " |  \n",
      " |  __init__(self, /, *args, **kwargs)\n",
      " |      Initialize self.  See help(type(self)) for accurate signature.\n",
      " |  \n",
      " |  __le__(self, value, /)\n",
      " |      Return self<=value.\n",
      " |  \n",
      " |  __lt__(self, value, /)\n",
      " |      Return self<value.\n",
      " |  \n",
      " |  __ne__(self, value, /)\n",
      " |      Return self!=value.\n",
      " |  \n",
      " |  __reduce__(self, /)\n",
      " |      Helper for pickle.\n",
      " |  \n",
      " |  __reduce_ex__(self, protocol, /)\n",
      " |      Helper for pickle.\n",
      " |  \n",
      " |  __repr__(self, /)\n",
      " |      Return repr(self).\n",
      " |  \n",
      " |  __setattr__(self, name, value, /)\n",
      " |      Implement setattr(self, name, value).\n",
      " |  \n",
      " |  __sizeof__(self, /)\n",
      " |      Size of object in memory, in bytes.\n",
      " |  \n",
      " |  __str__(self, /)\n",
      " |      Return str(self).\n",
      " |  \n",
      " |  ----------------------------------------------------------------------\n",
      " |  Class methods defined here:\n",
      " |  \n",
      " |  __init_subclass__(...) from builtins.type\n",
      " |      This method is called when a class is subclassed.\n",
      " |      \n",
      " |      The default implementation does nothing. It may be\n",
      " |      overridden to extend subclasses.\n",
      " |  \n",
      " |  __subclasshook__(...) from builtins.type\n",
      " |      Abstract classes can override this to customize issubclass().\n",
      " |      \n",
      " |      This is invoked early on by abc.ABCMeta.__subclasscheck__().\n",
      " |      It should return True, False or NotImplemented.  If it returns\n",
      " |      NotImplemented, the normal algorithm is used.  Otherwise, it\n",
      " |      overrides the normal algorithm (and the outcome is cached).\n",
      " |  \n",
      " |  ----------------------------------------------------------------------\n",
      " |  Static methods defined here:\n",
      " |  \n",
      " |  __new__(*args, **kwargs) from builtins.type\n",
      " |      Create and return a new object.  See help(type) for accurate signature.\n",
      " |  \n",
      " |  ----------------------------------------------------------------------\n",
      " |  Data and other attributes defined here:\n",
      " |  \n",
      " |  __class__ = <class 'type'>\n",
      " |      type(object_or_name, bases, dict)\n",
      " |      type(object) -> the object's type\n",
      " |      type(name, bases, dict) -> a new type\n",
      "\n"
     ]
    }
   ],
   "source": [
    "help(object)"
   ]
  },
  {
   "cell_type": "markdown",
   "id": "cf9e4773-1747-4f85-ae34-ebc7caf244fd",
   "metadata": {},
   "source": [
    "# polymorphism"
   ]
  },
  {
   "cell_type": "markdown",
   "id": "54adad06-5ca4-4cbd-8f4d-0cfaf8123042",
   "metadata": {},
   "source": [
    " # method overriding and operator overloading"
   ]
  },
  {
   "cell_type": "code",
   "execution_count": 37,
   "id": "78c3f043-d33a-4158-b277-54403c46d959",
   "metadata": {},
   "outputs": [
    {
     "name": "stdout",
     "output_type": "stream",
     "text": [
      "tinking\n",
      "eating acc to diet\n"
     ]
    }
   ],
   "source": [
    "class person:\n",
    "    def thinking(self):\n",
    "        print(\"tinking\")\n",
    "        \n",
    "    def eating(self):\n",
    "        print(\"3 times in a day\")\n",
    "        \n",
    "class actor(person):\n",
    "    def eating(self):\n",
    "        print(\"eating acc to diet\")\n",
    "        \n",
    "a=actor()\n",
    "a.thinking()\n",
    "a.eating()"
   ]
  },
  {
   "cell_type": "code",
   "execution_count": 39,
   "id": "f5a79d61-0481-4237-9e08-b2a7dd227836",
   "metadata": {},
   "outputs": [
    {
     "name": "stdout",
     "output_type": "stream",
     "text": [
      "tinking\n",
      "eating acc to diet\n",
      "3 times in a day\n"
     ]
    }
   ],
   "source": [
    "class person:\n",
    "    def thinking(self):\n",
    "        print(\"tinking\")\n",
    "        \n",
    "    def eating(self):\n",
    "        print(\"3 times in a day\")\n",
    "        \n",
    "class actor(person):\n",
    "    def eating(self):\n",
    "        print(\"eating acc to diet\")\n",
    "        super().eating()  #it is used to call parent class method\n",
    "        \n",
    "a=actor()\n",
    "a.thinking()\n",
    "a.eating()"
   ]
  },
  {
   "cell_type": "code",
   "execution_count": null,
   "id": "8add13e6-efe8-4bbe-a98d-99800443a315",
   "metadata": {},
   "outputs": [],
   "source": []
  }
 ],
 "metadata": {
  "kernelspec": {
   "display_name": "Python 3",
   "language": "python",
   "name": "python3"
  },
  "language_info": {
   "codemirror_mode": {
    "name": "ipython",
    "version": 3
   },
   "file_extension": ".py",
   "mimetype": "text/x-python",
   "name": "python",
   "nbconvert_exporter": "python",
   "pygments_lexer": "ipython3",
   "version": "3.8.8"
  }
 },
 "nbformat": 4,
 "nbformat_minor": 5
}
