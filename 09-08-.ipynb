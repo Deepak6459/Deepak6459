{
 "cells": [
  {
   "cell_type": "code",
   "execution_count": 2,
   "id": "61c62942-fdf8-4537-822b-06402ef81722",
   "metadata": {},
   "outputs": [],
   "source": [
    "from tkinter import *\n"
   ]
  },
  {
   "cell_type": "code",
   "execution_count": 5,
   "id": "c3aff49e-b1ef-4448-96ea-9a229edd8b95",
   "metadata": {},
   "outputs": [],
   "source": [
    "win=Tk()\n",
    "#win.geometry(\"600x400\") #define dimention wxh\n",
    "win.state(\"zoomed\") #show full screen window\n",
    "win.mainloop() #to visible window"
   ]
  },
  {
   "cell_type": "code",
   "execution_count": 35,
   "id": "9d1bf361-e5d4-409c-991d-6bc46e183547",
   "metadata": {},
   "outputs": [],
   "source": [
    "win=Tk()\n",
    "win.geometry(\"600x400\")\n",
    "win.resizable(width=False,height=False) #restrict to dimension \n",
    "win.configure(bg=\"light green\") #to change background color\n",
    "#win.configure(bg=\"#FFFF00\") #use hexa color\n",
    "b1=Button(win,text=\"sumit\")  #to make button\n",
    "#b1.place(x=200,y=100) #absulute / to define button starting point\n",
    "b1.place(relx=.2,rely=.2) #relative to parent\n",
    "\n",
    "win.mainloop()\n",
    "\n"
   ]
  },
  {
   "cell_type": "code",
   "execution_count": 53,
   "id": "c23eebc1-57e2-437e-96b1-657a3deb6165",
   "metadata": {},
   "outputs": [],
   "source": [
    "win=Tk()\n",
    "win.geometry(\"600x400\")\n",
    "win.resizable(width=False,height=False) \n",
    "win.configure(bg=\"light green\")  \n",
    "b1=Button(win,text=\"sumit\",width=10,font=('Arial',20,'bold'),bd=7,fg='red',bg='white')   \n",
    "b2=Button(win,text=\"ok\",width=10,font=('Arial',20,'bold'),bd=7) \n",
    "b1.place(x=100,y=100)\n",
    "b2.place(x=350,y=100)\n",
    "win.mainloop()\n"
   ]
  },
  {
   "cell_type": "code",
   "execution_count": 72,
   "id": "683c5d22-d1a3-4247-8a1f-40fb86099c78",
   "metadata": {},
   "outputs": [],
   "source": [
    "win=Tk()\n",
    "win.geometry(\"600x400\")\n",
    "win.resizable(width=False,height=False) \n",
    "win.configure(bg=\"light green\")  \n",
    "b1=Button(win,text=\"sumit\",width=10,font=('Arial',10,'bold'),bd=7,fg='red',bg='white')   \n",
    "b2=Button(win,text=\"ok\",width=10,font=('Arial',10,'bold'),bd=7) \n",
    "#b1.pack(side='bottom',anchor='e') #use to move button top to bottom\n",
    "# b1.pack(side='top',anchor='e')\n",
    "#b1.pack(side='left',anchor='n')#left to right\n",
    "#b1.pack()  #bydefault comes on top center and pack()  never override or overloop \n",
    "#b2.pack() \n",
    "b1.pack(side='bottom',anchor='c',pady=10, ipady=20) #it always go upward direction / pady give space in y direction on both side/ ipady give space inside the button\n",
    "b2.pack(side='bottom',anchor='c',pady=10)\n",
    "win.mainloop()\n"
   ]
  },
  {
   "cell_type": "code",
   "execution_count": 78,
   "id": "f8e73fcd-d872-4fd5-b5d7-7b6df09fc85d",
   "metadata": {},
   "outputs": [],
   "source": [
    "win=Tk()\n",
    "win.geometry(\"600x400\")\n",
    "win.resizable(width=False,height=False) \n",
    "win.configure(bg=\"light green\")  \n",
    "b1=Button(win,text=\"button1\",width=10,font=('Arial',10,'bold'),bd=7)   \n",
    "b2=Button(win,text=\"button2\",width=10,font=('Arial',10,'bold'),bd=7) \n",
    "b3=Button(win,text=\"button3\",width=10,font=('Arial',10,'bold'),bd=7)   \n",
    "b4=Button(win,text=\"button4\",width=10,font=('Arial',10,'bold'),bd=7) \n",
    "b1.grid(row=0,column=0) #grid is used to set button by row and coloumn\n",
    "b2.grid(row=0,column=1)\n",
    "b3.grid(row=1,column=0)\n",
    "b4.grid(row=1,column=1)\n",
    "\n",
    "\n",
    "win.mainloop()"
   ]
  },
  {
   "cell_type": "code",
   "execution_count": 80,
   "id": "a5c5c79e-5a8f-47e4-be1a-008fa549b5d3",
   "metadata": {},
   "outputs": [],
   "source": [
    "win=Tk()\n",
    "win.geometry(\"600x400\")\n",
    "win.resizable(width=False,height=False) \n",
    "win.configure(bg=\"light green\")  \n",
    "frm=Frame(win)   #frame is used to create chile window on which we can show our buttons\n",
    "frm.place(x=200,y=200)\n",
    "\n",
    "\n",
    "\n",
    "b1=Button(frm,text=\"button1\",width=10,font=('Arial',10,'bold'),bd=7)   \n",
    "b2=Button(frm,text=\"button2\",width=10,font=('Arial',10,'bold'),bd=7) \n",
    "b3=Button(frm,text=\"button3\",width=10,font=('Arial',10,'bold'),bd=7)   \n",
    "b4=Button(frm,text=\"button4\",width=10,font=('Arial',10,'bold'),bd=7) \n",
    "b1.grid(row=0,column=0) \n",
    "b2.grid(row=0,column=1)\n",
    "b3.grid(row=1,column=0)\n",
    "b4.grid(row=1,column=1)\n",
    "\n",
    "\n",
    "win.mainloop()"
   ]
  },
  {
   "cell_type": "code",
   "execution_count": 86,
   "id": "4fc9ba2e-72f8-493e-9330-c516f00cfacf",
   "metadata": {},
   "outputs": [],
   "source": [
    "win=Tk()\n",
    "win.geometry(\"600x400\")\n",
    "win.resizable(width=False,height=False) \n",
    "win.configure(bg=\"light green\")  \n",
    "frm=Frame(win) \n",
    "frm.configure(bg='green')  #to show the child window colors\n",
    "frm.place(x=200,y=200)  #width=300,height=100\n",
    "\n",
    "\n",
    "\n",
    "b1=Button(frm,text=\"button1\",width=10,font=('Arial',10,'bold'),bd=7)   \n",
    "b2=Button(frm,text=\"button2\",width=10,font=('Arial',10,'bold'),bd=7) \n",
    "b3=Button(frm,text=\"button3\",width=10,font=('Arial',10,'bold'),bd=7)   \n",
    "b4=Button(frm,text=\"button4\",width=10,font=('Arial',10,'bold'),bd=7) \n",
    "\n",
    "b1.grid(row=0,column=0) \n",
    "b2.grid(row=0,column=1)\n",
    "b3.grid(row=1,column=0)\n",
    "b4.grid(row=1,column=1)\n",
    "\n",
    "\n",
    "win.mainloop()"
   ]
  },
  {
   "cell_type": "code",
   "execution_count": 90,
   "id": "56c9d004-f43b-41ce-b2ac-5a9012a2b903",
   "metadata": {},
   "outputs": [],
   "source": [
    "win=Tk()\n",
    "win.geometry(\"600x400\")\n",
    "win.resizable(width=False,height=False) \n",
    "win.configure(bg=\"light green\")  \n",
    "\n",
    "b1=Button(win,text=\"Select color\",width=10,font=('Arial',10,'bold'),bd=7)   \n",
    "\n",
    "b1.place(x=100,y=100) \n",
    "\n",
    "win.mainloop()"
   ]
  },
  {
   "cell_type": "code",
   "execution_count": 1,
   "id": "30930835-35b3-41b3-a444-8fe135da5d59",
   "metadata": {},
   "outputs": [],
   "source": [
    "#from tkinter import colorchooser    #it is used to ask input color as it will show all color bar\n",
    "#rgb,clr=colorchooser.askcolor()"
   ]
  },
  {
   "cell_type": "code",
   "execution_count": 2,
   "id": "c2084964-2661-493b-ba2b-c48fe21ce8c2",
   "metadata": {},
   "outputs": [],
   "source": [
    "#event handling"
   ]
  },
  {
   "cell_type": "code",
   "execution_count": null,
   "id": "fc75a915-b746-4737-ac9c-16c16290d82c",
   "metadata": {},
   "outputs": [],
   "source": []
  },
  {
   "cell_type": "code",
   "execution_count": null,
   "id": "a70f4840-81bf-4b8b-baf2-c5d2c6013ae2",
   "metadata": {},
   "outputs": [],
   "source": []
  }
 ],
 "metadata": {
  "kernelspec": {
   "display_name": "Python 3",
   "language": "python",
   "name": "python3"
  },
  "language_info": {
   "codemirror_mode": {
    "name": "ipython",
    "version": 3
   },
   "file_extension": ".py",
   "mimetype": "text/x-python",
   "name": "python",
   "nbconvert_exporter": "python",
   "pygments_lexer": "ipython3",
   "version": "3.8.8"
  }
 },
 "nbformat": 4,
 "nbformat_minor": 5
}
