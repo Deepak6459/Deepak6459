{
 "cells": [
  {
   "cell_type": "code",
   "execution_count": 2,
   "id": "61c62942-fdf8-4537-822b-06402ef81722",
   "metadata": {},
   "outputs": [],
   "source": [
    "from tkinter import *\n"
   ]
  },
  {
   "cell_type": "code",
   "execution_count": 9,
   "id": "c3aff49e-b1ef-4448-96ea-9a229edd8b95",
   "metadata": {},
   "outputs": [],
   "source": [
    "win=Tk()\n",
    "#win.geometry(\"600x400\") #define dimention wxh\n",
    "win.state(\"zoomed\") #show full screen window\n",
    "win.mainloop() #to visible window"
   ]
  },
  {
   "cell_type": "code",
   "execution_count": 35,
   "id": "9d1bf361-e5d4-409c-991d-6bc46e183547",
   "metadata": {},
   "outputs": [],
   "source": [
    "win=Tk()\n",
    "win.geometry(\"600x400\")\n",
    "win.resizable(width=False,height=False) #restrict to dimension \n",
    "win.configure(bg=\"light green\") #to change background color\n",
    "#win.configure(bg=\"#FFFF00\") #use hexa color\n",
    "b1=Button(win,text=\"sumit\")  #to make button\n",
    "#b1.place(x=200,y=100) #absulute / to define button starting point\n",
    "b1.place(relx=.2,rely=.2) #relative to parent\n",
    "\n",
    "win.mainloop()\n",
    "\n"
   ]
  },
  {
   "cell_type": "code",
   "execution_count": 53,
   "id": "c23eebc1-57e2-437e-96b1-657a3deb6165",
   "metadata": {},
   "outputs": [],
   "source": [
    "win=Tk()\n",
    "win.geometry(\"600x400\")\n",
    "win.resizable(width=False,height=False) \n",
    "win.configure(bg=\"light green\")  \n",
    "b1=Button(win,text=\"sumit\",width=10,font=('Arial',20,'bold'),bd=7,fg='red',bg='white')   \n",
    "b2=Button(win,text=\"ok\",width=10,font=('Arial',20,'bold'),bd=7) \n",
    "b1.place(x=100,y=100)\n",
    "b2.place(x=350,y=100)\n",
    "win.mainloop()\n"
   ]
  },
  {
   "cell_type": "code",
   "execution_count": 72,
   "id": "683c5d22-d1a3-4247-8a1f-40fb86099c78",
   "metadata": {},
   "outputs": [],
   "source": [
    "win=Tk()\n",
    "win.geometry(\"600x400\")\n",
    "win.resizable(width=False,height=False) \n",
    "win.configure(bg=\"light green\")  \n",
    "b1=Button(win,text=\"sumit\",width=10,font=('Arial',10,'bold'),bd=7,fg='red',bg='white')   \n",
    "b2=Button(win,text=\"ok\",width=10,font=('Arial',10,'bold'),bd=7) \n",
    "#b1.pack(side='bottom',anchor='e') #use to move button top to bottom\n",
    "# b1.pack(side='top',anchor='e')\n",
    "#b1.pack(side='left',anchor='n')#left to right\n",
    "#b1.pack()  #bydefault comes on top center and pack()  never override or overloop \n",
    "#b2.pack() \n",
    "b1.pack(side='bottom',anchor='c',pady=10, ipady=20) #it always go upward direction / pady give space in y direction on both side/ ipady give space inside the button\n",
    "b2.pack(side='bottom',anchor='c',pady=10)\n",
    "win.mainloop()\n"
   ]
  },
  {
   "cell_type": "code",
   "execution_count": 78,
   "id": "f8e73fcd-d872-4fd5-b5d7-7b6df09fc85d",
   "metadata": {},
   "outputs": [],
   "source": [
    "win=Tk()\n",
    "win.geometry(\"600x400\")\n",
    "win.resizable(width=False,height=False) \n",
    "win.configure(bg=\"light green\")  \n",
    "b1=Button(win,text=\"button1\",width=10,font=('Arial',10,'bold'),bd=7)   \n",
    "b2=Button(win,text=\"button2\",width=10,font=('Arial',10,'bold'),bd=7) \n",
    "b3=Button(win,text=\"button3\",width=10,font=('Arial',10,'bold'),bd=7)   \n",
    "b4=Button(win,text=\"button4\",width=10,font=('Arial',10,'bold'),bd=7) \n",
    "b1.grid(row=0,column=0) #grid is used to set button by row and coloumn\n",
    "b2.grid(row=0,column=1)\n",
    "b3.grid(row=1,column=0)\n",
    "b4.grid(row=1,column=1)\n",
    "\n",
    "\n",
    "win.mainloop()"
   ]
  },
  {
   "cell_type": "code",
   "execution_count": 80,
   "id": "a5c5c79e-5a8f-47e4-be1a-008fa549b5d3",
   "metadata": {},
   "outputs": [],
   "source": [
    "win=Tk()\n",
    "win.geometry(\"600x400\")\n",
    "win.resizable(width=False,height=False) \n",
    "win.configure(bg=\"light green\")  \n",
    "frm=Frame(win)   #frame is used to create chile window on which we can show our buttons\n",
    "frm.place(x=200,y=200)\n",
    "\n",
    "\n",
    "\n",
    "b1=Button(frm,text=\"button1\",width=10,font=('Arial',10,'bold'),bd=7)   \n",
    "b2=Button(frm,text=\"button2\",width=10,font=('Arial',10,'bold'),bd=7) \n",
    "b3=Button(frm,text=\"button3\",width=10,font=('Arial',10,'bold'),bd=7)   \n",
    "b4=Button(frm,text=\"button4\",width=10,font=('Arial',10,'bold'),bd=7) \n",
    "b1.grid(row=0,column=0) \n",
    "b2.grid(row=0,column=1)\n",
    "b3.grid(row=1,column=0)\n",
    "b4.grid(row=1,column=1)\n",
    "\n",
    "\n",
    "win.mainloop()"
   ]
  },
  {
   "cell_type": "code",
   "execution_count": 9,
   "id": "4fc9ba2e-72f8-493e-9330-c516f00cfacf",
   "metadata": {},
   "outputs": [],
   "source": [
    "win=Tk()\n",
    "win.geometry(\"600x400\")\n",
    "win.resizable(width=False,height=False) \n",
    "win.configure(bg=\"light green\")  \n",
    "frm=Frame(win) \n",
    "frm.configure(bg='green')  #to show the child window colors\n",
    "frm.place(x=200,y=200)  #width=300,height=100\n",
    "\n",
    "\n",
    "\n",
    "b1=Button(frm,text=\"button1\",width=10,font=('Arial',10,'bold'),bd=7)   \n",
    "b2=Button(frm,text=\"button2\",width=10,font=('Arial',10,'bold'),bd=7) \n",
    "b3=Button(frm,text=\"button3\",width=10,font=('Arial',10,'bold'),bd=7)   \n",
    "b4=Button(frm,text=\"button4\",width=10,font=('Arial',10,'bold'),bd=7) \n",
    "\n",
    "b1.grid(row=0,column=0) \n",
    "b2.grid(row=0,column=1)\n",
    "b3.grid(row=1,column=0)\n",
    "b4.grid(row=1,column=1)\n",
    "\n",
    "\n",
    "win.mainloop()"
   ]
  },
  {
   "cell_type": "code",
   "execution_count": 8,
   "id": "56c9d004-f43b-41ce-b2ac-5a9012a2b903",
   "metadata": {},
   "outputs": [],
   "source": [
    "win=Tk()\n",
    "win.geometry(\"600x400\")\n",
    "win.resizable(width=False,height=False) \n",
    "win.configure(bg=\"light green\")  \n",
    "\n",
    "b1=Button(win,text=\"Select color\",width=10,font=('Arial',10,'bold'),bd=7)   \n",
    "\n",
    "b1.place(x=100,y=100) \n",
    "\n",
    "win.mainloop()"
   ]
  },
  {
   "cell_type": "code",
   "execution_count": 1,
   "id": "30930835-35b3-41b3-a444-8fe135da5d59",
   "metadata": {},
   "outputs": [],
   "source": [
    "#from tkinter import colorchooser    #it is used to ask input color as it will show all color bar\n",
    "#rgb,clr=colorchooser.askcolor()"
   ]
  },
  {
   "cell_type": "code",
   "execution_count": 4,
   "id": "c2084964-2661-493b-ba2b-c48fe21ce8c2",
   "metadata": {},
   "outputs": [],
   "source": [
    "#event handling"
   ]
  },
  {
   "cell_type": "code",
   "execution_count": 5,
   "id": "66fd43cc-8f45-4af0-abc3-8f584c64ec48",
   "metadata": {},
   "outputs": [],
   "source": [
    "#bind function (use for event handling )"
   ]
  },
  {
   "cell_type": "code",
   "execution_count": 10,
   "id": "b5397bdc-eb12-4aac-af2a-02c606ce8837",
   "metadata": {},
   "outputs": [],
   "source": [
    "from tkinter import colorchooser   #program when we click on submit button it will ask for change color\n",
    "def change(event):  #we can mention any name\n",
    "    rgb,clr=colorchooser.askcolor()\n",
    "    win.configure(bg=clr)  \n",
    "    \n",
    "win=Tk()\n",
    "win.geometry(\"600x400\")\n",
    "win.resizable(width=False,height=False) \n",
    "win.configure(bg=\"light green\")  \n",
    "\n",
    "b1=Button(win,text=\"Select color\",width=10,font=('Arial',10,'bold'),bd=7)   \n",
    "\n",
    "b1.place(x=100,y=100) \n",
    "b1.bind(\"<Button>\",change) #bind is used to call operation\n",
    "\n",
    "\n",
    "win.mainloop()"
   ]
  },
  {
   "cell_type": "code",
   "execution_count": 23,
   "id": "73033e05-baf6-4a03-b402-dd65e58d5243",
   "metadata": {},
   "outputs": [],
   "source": [
    "from tkinter import colorchooser   #program when we move cursor from out to in color will change \n",
    "def change(event):\n",
    "    rgb,clr=colorchooser.askcolor()\n",
    "    win.configure(bg=clr) \n",
    "    \n",
    "def f1(event):\n",
    "    win.configure(bg=\"pink\")\n",
    "    \n",
    "\n",
    "def f2(event):\n",
    "    win.configure(bg=\"light green\")    \n",
    "    \n",
    "    \n",
    "win=Tk()\n",
    "win.geometry(\"600x400\")\n",
    "win.resizable(width=False,height=False) \n",
    "win.configure(bg=\"light green\")  \n",
    "\n",
    "b1=Button(win,text=\"Select color\",width=10,font=('Arial',10,'bold'),bd=7)   \n",
    "b1.place(x=100,y=100) \n",
    "b1.bind(\"<Button>\",change) #bind is used to call operation\n",
    "\n",
    "\n",
    "win.bind(\"<Enter>\",f1)\n",
    "win.bind(\"<Leave>\",f2)\n",
    "\n",
    "\n",
    "\n",
    "win.mainloop()"
   ]
  },
  {
   "cell_type": "code",
   "execution_count": 25,
   "id": "9c220b8e-01df-447d-99e3-2de6b7cfd256",
   "metadata": {},
   "outputs": [
    {
     "name": "stdout",
     "output_type": "stream",
     "text": [
      "338 254\n",
      "241 65\n",
      "105 89\n",
      "22 25\n",
      "17 2\n",
      "-4 81\n",
      "23 17\n",
      "171 207\n",
      "111 189\n",
      "32 171\n",
      "49 24\n",
      "81 245\n",
      "74 193\n",
      "51 142\n",
      "74 91\n",
      "184 77\n",
      "148 58\n",
      "308 193\n"
     ]
    }
   ],
   "source": [
    "from tkinter import colorchooser   #program to get coordinates and when click on window, change the color\n",
    "def change(event):\n",
    "    rgb,clr=colorchooser.askcolor()\n",
    "    win.configure(bg=clr) \n",
    "    \n",
    "def f1(event):\n",
    "    win.configure(bg=\"pink\")\n",
    "    \n",
    "\n",
    "def f2(event):\n",
    "    win.configure(bg=\"light green\")        \n",
    "    \n",
    "\n",
    "def f3(event):\n",
    "    print(event.x,event.y)\n",
    "    \n",
    "    \n",
    "    \n",
    "win=Tk()\n",
    "win.geometry(\"600x400\")\n",
    "win.resizable(width=False,height=False) \n",
    "win.configure(bg=\"light green\")  \n",
    "\n",
    "b1=Button(win,text=\"Select color\",width=10,font=('Arial',10,'bold'),bd=7)   \n",
    "b1.place(x=100,y=100) \n",
    "b1.bind(\"<Button>\",change) #bind is used to call operation\n",
    "\n",
    "\n",
    "win.bind(\"<Enter>\",f1)\n",
    "win.bind(\"<Leave>\",f2)\n",
    "win.bind(\"<Button>\",f3)\n",
    "\n",
    "\n",
    "win.mainloop()"
   ]
  },
  {
   "cell_type": "code",
   "execution_count": null,
   "id": "a7243823-4cce-4140-b16e-966bc20fa86f",
   "metadata": {},
   "outputs": [],
   "source": []
  }
 ],
 "metadata": {
  "kernelspec": {
   "display_name": "Python 3",
   "language": "python",
   "name": "python3"
  },
  "language_info": {
   "codemirror_mode": {
    "name": "ipython",
    "version": 3
   },
   "file_extension": ".py",
   "mimetype": "text/x-python",
   "name": "python",
   "nbconvert_exporter": "python",
   "pygments_lexer": "ipython3",
   "version": "3.8.8"
  }
 },
 "nbformat": 4,
 "nbformat_minor": 5
}
