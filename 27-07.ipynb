{
 "cells": [
  {
   "cell_type": "code",
   "execution_count": 1,
   "id": "05885e8b-26eb-4847-b6f7-a3a4dab2bda3",
   "metadata": {},
   "outputs": [],
   "source": [
    "class car:\n",
    "    pass\n",
    "\n",
    "class account:\n",
    "    pass\n",
    "\n",
    "class student:\n",
    "    pass\n",
    "\n",
    "\n",
    "#reference=classname()\n",
    "c1=car() #car() it is a object of class car\n",
    "c2=car() \n",
    "\n",
    "a1=account()\n",
    "s1=student()"
   ]
  },
  {
   "cell_type": "code",
   "execution_count": 2,
   "id": "bf614487-057c-4f17-b170-0d92ca2bbe05",
   "metadata": {},
   "outputs": [
    {
     "name": "stdout",
     "output_type": "stream",
     "text": [
      "<class 'list'>\n"
     ]
    }
   ],
   "source": [
    "l=[]\n",
    "print(type(l))"
   ]
  },
  {
   "cell_type": "code",
   "execution_count": 3,
   "id": "97635b85-0986-4925-a2fa-24078cd31d47",
   "metadata": {},
   "outputs": [
    {
     "name": "stdout",
     "output_type": "stream",
     "text": [
      "<class 'list'>\n"
     ]
    }
   ],
   "source": [
    "l=list()\n",
    "print(type(l))"
   ]
  },
  {
   "cell_type": "code",
   "execution_count": 4,
   "id": "5e37c364-619c-44bf-832a-0f081ceaf92b",
   "metadata": {},
   "outputs": [],
   "source": [
    "#how to define behaviour/method"
   ]
  },
  {
   "cell_type": "code",
   "execution_count": 8,
   "id": "42a6841e-2455-44ce-a22f-11542ab348cc",
   "metadata": {},
   "outputs": [],
   "source": [
    "#def xyz() #if we define function under the class its call behaviour or method and if we define funtion without class its call normal funtion"
   ]
  },
  {
   "cell_type": "code",
   "execution_count": 10,
   "id": "c135ed5c-b6dc-40f8-bbce-a849869a9948",
   "metadata": {},
   "outputs": [
    {
     "name": "stdout",
     "output_type": "stream",
     "text": [
      "hi i am func\n"
     ]
    }
   ],
   "source": [
    "def deposit():\n",
    "    print(\"hi i am func\")\n",
    "\n",
    "class bank():\n",
    "    def deposit():\n",
    "        print(\"hi i am method\")\n",
    "        \n",
    "\n",
    "    \n",
    "deposit()"
   ]
  },
  {
   "cell_type": "code",
   "execution_count": 12,
   "id": "3a499b14-e29d-4a65-9eb9-b1bffaad6889",
   "metadata": {},
   "outputs": [
    {
     "ename": "TypeError",
     "evalue": "deposit() takes 0 positional arguments but 1 was given",
     "output_type": "error",
     "traceback": [
      "\u001b[1;31m---------------------------------------------------------------------------\u001b[0m",
      "\u001b[1;31mTypeError\u001b[0m                                 Traceback (most recent call last)",
      "\u001b[1;32m<ipython-input-12-5550252b64ae>\u001b[0m in \u001b[0;36m<module>\u001b[1;34m\u001b[0m\n\u001b[0;32m      4\u001b[0m \u001b[1;33m\u001b[0m\u001b[0m\n\u001b[0;32m      5\u001b[0m \u001b[0ma\u001b[0m\u001b[1;33m=\u001b[0m\u001b[0mbank\u001b[0m\u001b[1;33m(\u001b[0m\u001b[1;33m)\u001b[0m\u001b[1;33m\u001b[0m\u001b[1;33m\u001b[0m\u001b[0m\n\u001b[1;32m----> 6\u001b[1;33m \u001b[0ma\u001b[0m\u001b[1;33m.\u001b[0m\u001b[0mdeposit\u001b[0m\u001b[1;33m(\u001b[0m\u001b[1;33m)\u001b[0m\u001b[1;33m\u001b[0m\u001b[1;33m\u001b[0m\u001b[0m\n\u001b[0m\u001b[0;32m      7\u001b[0m \u001b[1;33m\u001b[0m\u001b[0m\n",
      "\u001b[1;31mTypeError\u001b[0m: deposit() takes 0 positional arguments but 1 was given"
     ]
    }
   ],
   "source": [
    "class bank():\n",
    "    def deposit():\n",
    "        print(\"hi i am method\")\n",
    "        \n",
    "a=bank()\n",
    "a.deposit()\n",
    "        \n"
   ]
  },
  {
   "cell_type": "code",
   "execution_count": 14,
   "id": "5d79f3d4-424b-4284-9c0f-459924d692cb",
   "metadata": {},
   "outputs": [
    {
     "name": "stdout",
     "output_type": "stream",
     "text": [
      "hi i am method\n"
     ]
    }
   ],
   "source": [
    "class bank():\n",
    "    def deposit(x): #this is called method\n",
    "        print(\"hi i am method\")\n",
    "        \n",
    "a=bank()  #this is called object\n",
    "a.deposit()#--->update---->a.deposit(a)"
   ]
  },
  {
   "cell_type": "code",
   "execution_count": 18,
   "id": "aaded4bc-2662-4898-a9dd-d360ad49b760",
   "metadata": {},
   "outputs": [
    {
     "name": "stdout",
     "output_type": "stream",
     "text": [
      "i am method\n",
      "i am method\n",
      "i am method\n"
     ]
    }
   ],
   "source": [
    "class bank():\n",
    "    def deposit(x):\n",
    "        print(\"i am method\")\n",
    "        \n",
    "a=bank()\n",
    "a.deposit()  #a.deposit(a)\n",
    "a.deposit()\n",
    "\n",
    "a2=bank()\n",
    "a2.deposit()  #a2.deposit(a2)"
   ]
  },
  {
   "cell_type": "code",
   "execution_count": 20,
   "id": "2bda55af-34e9-4736-abd6-09232b2f8182",
   "metadata": {},
   "outputs": [
    {
     "name": "stdout",
     "output_type": "stream",
     "text": [
      "i am method\n"
     ]
    }
   ],
   "source": [
    "class bank():\n",
    "    def deposit(self):\n",
    "        print(\"i am method\")\n",
    "        \n",
    "        \n",
    "a=bank() # jis object si method ko call krte h vo object khud method parameter a ata h\n",
    "a.deposit()"
   ]
  },
  {
   "cell_type": "code",
   "execution_count": 21,
   "id": "dd050e73-7915-4a6b-abd7-6eec38f38832",
   "metadata": {},
   "outputs": [
    {
     "name": "stdout",
     "output_type": "stream",
     "text": [
      "this is deposit 88626656 10\n",
      "this is deposit 88628336 20\n"
     ]
    }
   ],
   "source": [
    "class test:\n",
    "    def show(self,x):\n",
    "        print(f\"this is deposit {id(self)}\",x)\n",
    "        \n",
    "        \n",
    "t1=test()\n",
    "t2=test()\n",
    "\n",
    "t1.show(10) #t1.show(t1.10)\n",
    "t2.show(20) #t1.show(t2.10)\n",
    "\n"
   ]
  },
  {
   "cell_type": "code",
   "execution_count": 27,
   "id": "b1a575cc-5eea-4767-827f-15e23e440a44",
   "metadata": {},
   "outputs": [
    {
     "name": "stdout",
     "output_type": "stream",
     "text": [
      "this is show\n"
     ]
    }
   ],
   "source": [
    "class other:\n",
    "    def show(self):\n",
    "        print(\"this is show\")\n",
    "        \n",
    "obj=other()\n",
    "obj.show()"
   ]
  },
  {
   "cell_type": "code",
   "execution_count": 32,
   "id": "f8aed7aa-7180-4008-b6da-f9523fcf8fe3",
   "metadata": {},
   "outputs": [
    {
     "data": {
      "text/plain": [
       "2"
      ]
     },
     "execution_count": 32,
     "metadata": {},
     "output_type": "execute_result"
    }
   ],
   "source": [
    "s=\"india\"\n",
    "s.count(\"i\")"
   ]
  },
  {
   "cell_type": "code",
   "execution_count": 36,
   "id": "2e4bae17-d4e7-435d-a880-0d3dfd46cac8",
   "metadata": {},
   "outputs": [
    {
     "data": {
      "text/plain": [
       "2"
      ]
     },
     "execution_count": 36,
     "metadata": {},
     "output_type": "execute_result"
    }
   ],
   "source": [
    "l=[1,2,3,4,5,4]\n",
    "l.count(4)"
   ]
  },
  {
   "cell_type": "code",
   "execution_count": 37,
   "id": "6a7febf5-b25f-4155-85ec-68acb4cf9170",
   "metadata": {},
   "outputs": [],
   "source": [
    "#attribute"
   ]
  },
  {
   "cell_type": "code",
   "execution_count": 41,
   "id": "7a07aa2f-f1d3-4443-ac06-4a01217fca5c",
   "metadata": {},
   "outputs": [
    {
     "name": "stdout",
     "output_type": "stream",
     "text": [
      "101\n",
      "1000\n",
      "5000\n"
     ]
    }
   ],
   "source": [
    "class bank():\n",
    "    pass\n",
    "\n",
    "a1=bank()\n",
    "a2=bank()\n",
    "\n",
    "a1.acn=101\n",
    "a1.bnc=1000\n",
    "print(a1.acn)\n",
    "print(a1.bnc)\n",
    "\n",
    "a1.bnc=5000\n",
    "print(a1.bnc)"
   ]
  },
  {
   "cell_type": "code",
   "execution_count": 42,
   "id": "f7226aa0-431d-4581-a54e-fb3f39354324",
   "metadata": {},
   "outputs": [],
   "source": [
    "#constructor"
   ]
  },
  {
   "cell_type": "code",
   "execution_count": 44,
   "id": "ebff4ab7-c84a-40b9-a7ba-786e58a12d92",
   "metadata": {},
   "outputs": [
    {
     "name": "stdout",
     "output_type": "stream",
     "text": [
      "this is constructor\n",
      "this is constructor\n"
     ]
    }
   ],
   "source": [
    "class math:\n",
    "    def __init__(self): #custructor can be called as a method\n",
    "        print(\"this is constructor\")  \n",
    "        \n",
    "        \n",
    "a1=math()  #constructor can direct run through object\n",
    "a2=math()"
   ]
  },
  {
   "cell_type": "code",
   "execution_count": null,
   "id": "533e30c7-2d15-4f1d-a5db-c95b7063486f",
   "metadata": {},
   "outputs": [],
   "source": []
  }
 ],
 "metadata": {
  "kernelspec": {
   "display_name": "Python 3",
   "language": "python",
   "name": "python3"
  },
  "language_info": {
   "codemirror_mode": {
    "name": "ipython",
    "version": 3
   },
   "file_extension": ".py",
   "mimetype": "text/x-python",
   "name": "python",
   "nbconvert_exporter": "python",
   "pygments_lexer": "ipython3",
   "version": "3.8.8"
  }
 },
 "nbformat": 4,
 "nbformat_minor": 5
}
