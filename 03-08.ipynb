{
 "cells": [
  {
   "cell_type": "markdown",
   "id": "6c2a0017-0446-4d8f-b6d0-af3a74d121fd",
   "metadata": {},
   "source": [
    "# Nested class"
   ]
  },
  {
   "cell_type": "code",
   "execution_count": 1,
   "id": "c0f057f0-d392-4364-890d-438b9ebfac93",
   "metadata": {},
   "outputs": [
    {
     "ename": "NameError",
     "evalue": "name 'address' is not defined",
     "output_type": "error",
     "traceback": [
      "\u001b[1;31m---------------------------------------------------------------------------\u001b[0m",
      "\u001b[1;31mNameError\u001b[0m                                 Traceback (most recent call last)",
      "\u001b[1;32m<ipython-input-1-e8f0d37273e7>\u001b[0m in \u001b[0;36m<module>\u001b[1;34m\u001b[0m\n\u001b[0;32m      6\u001b[0m             \u001b[0mself\u001b[0m\u001b[1;33m.\u001b[0m\u001b[0mhsn\u001b[0m\u001b[1;33m=\u001b[0m\u001b[0mh\u001b[0m\u001b[1;33m\u001b[0m\u001b[1;33m\u001b[0m\u001b[0m\n\u001b[0;32m      7\u001b[0m \u001b[1;33m\u001b[0m\u001b[0m\n\u001b[1;32m----> 8\u001b[1;33m \u001b[0ma\u001b[0m\u001b[1;33m=\u001b[0m\u001b[0maddress\u001b[0m\u001b[1;33m(\u001b[0m\u001b[1;34m\"up\"\u001b[0m\u001b[1;33m,\u001b[0m\u001b[1;34m\"noida\"\u001b[0m\u001b[1;33m,\u001b[0m\u001b[1;34m\"aaa\"\u001b[0m\u001b[1;33m)\u001b[0m\u001b[1;33m\u001b[0m\u001b[1;33m\u001b[0m\u001b[0m\n\u001b[0m",
      "\u001b[1;31mNameError\u001b[0m: name 'address' is not defined"
     ]
    }
   ],
   "source": [
    "class student:\n",
    "    class address:\n",
    "        def __init__(self,s,c,h):\n",
    "            self.state=s\n",
    "            self.city=c\n",
    "            self.hsn=h\n",
    "            \n",
    "a=address(\"up\",\"noida\",\"aaa\") #we cannot define address class directly"
   ]
  },
  {
   "cell_type": "code",
   "execution_count": 3,
   "id": "706ee595-9513-40b7-ad3c-293cbf000694",
   "metadata": {},
   "outputs": [],
   "source": [
    "class student:\n",
    "    class address:\n",
    "        def __init__(self,s,c,h):\n",
    "            self.state=s\n",
    "            self.city=c\n",
    "            self.hsn=h\n",
    "            \n",
    "            \n",
    "a=student.address(\"up\",\"noida\",\"aa\")\n"
   ]
  },
  {
   "cell_type": "code",
   "execution_count": 10,
   "id": "3c343d43-3bdb-4e97-a30a-74d8631f1701",
   "metadata": {},
   "outputs": [
    {
     "name": "stdout",
     "output_type": "stream",
     "text": [
      "sonu a40\n",
      "monu a40\n"
     ]
    }
   ],
   "source": [
    "class student:\n",
    "    class address:\n",
    "        def __init__(self,s,c,h):\n",
    "            self.state=s\n",
    "            self.city=c\n",
    "            self.hsn=h\n",
    "            \n",
    "    def __init__(self,r,n): # def __init__(self,r,n,s,c,hsn):\n",
    "        self.roll=r\n",
    "        self.name=n\n",
    "        self.adr=student.address(\"up\",\"noida\",\"a40\") #self.adr=student.address(s,c,hsn)\n",
    "        \n",
    "                \n",
    "            \n",
    "            \n",
    "s1=student(100,\"sonu\")\n",
    "s2=student(101,\"monu\")\n",
    "#s1=student(100,\"sonu\",\"up\",\"noida\",\"a40\")\n",
    "print(s1.name,s1.adr.hsn)\n",
    "print(s2.name,s2.adr.hsn)\n"
   ]
  },
  {
   "cell_type": "code",
   "execution_count": 3,
   "id": "4903ba9a-e7cb-4431-9ce3-923a09919245",
   "metadata": {},
   "outputs": [
    {
     "name": "stdout",
     "output_type": "stream",
     "text": [
      "show in a\n"
     ]
    }
   ],
   "source": [
    "class A:\n",
    "    def show(self):\n",
    "        print(\"show in a\")\n",
    "        class B:\n",
    "            def show(self):\n",
    "                print(\"show in B\")\n",
    "                \n",
    "a=A()\n",
    "a.show()"
   ]
  },
  {
   "cell_type": "code",
   "execution_count": 13,
   "id": "21df1162-40fe-4216-beac-c930521c5a0f",
   "metadata": {},
   "outputs": [
    {
     "name": "stdout",
     "output_type": "stream",
     "text": [
      "show in A\n",
      "show in B\n"
     ]
    }
   ],
   "source": [
    "class A:\n",
    "    def show(self):\n",
    "        print(\"show in A\")\n",
    "        class B:  #local nested class (define class inside the method)\n",
    "            def show(self):\n",
    "                print(\"show in B\")\n",
    "        b=B()\n",
    "        b.show()\n",
    "        \n",
    "        \n",
    "a=A()\n",
    "a.show()"
   ]
  },
  {
   "cell_type": "markdown",
   "id": "cb11d95c-7e8b-42eb-bf54-d4a0dff31060",
   "metadata": {},
   "source": [
    "# Garbage collection "
   ]
  },
  {
   "cell_type": "code",
   "execution_count": 14,
   "id": "0f44936c-db5f-496d-8433-8bb073c3c3ce",
   "metadata": {},
   "outputs": [],
   "source": [
    "class test:\n",
    "    pass\n",
    "\n",
    "\n",
    "t=test()\n"
   ]
  },
  {
   "cell_type": "code",
   "execution_count": 2,
   "id": "b17efbba-8863-48a5-ab0b-0d4478c2ef29",
   "metadata": {},
   "outputs": [
    {
     "name": "stdout",
     "output_type": "stream",
     "text": [
      "m ja rha hu\n",
      "m ja rha hu\n"
     ]
    }
   ],
   "source": [
    "class test:\n",
    "    def __del__(self):     #destructor\n",
    "        print(\"m ja rha hu\")              \n",
    "\n",
    "t=test()\n",
    "t=test()\n",
    "t=None"
   ]
  },
  {
   "cell_type": "markdown",
   "id": "99cd497f-a592-40d4-ab2f-dc41eebb8bc9",
   "metadata": {},
   "source": [
    "# concurrent execution"
   ]
  },
  {
   "cell_type": "code",
   "execution_count": 15,
   "id": "3c062d5a-cf44-4d84-9197-15604dde7f19",
   "metadata": {},
   "outputs": [],
   "source": [
    "#multi tasking"
   ]
  },
  {
   "cell_type": "code",
   "execution_count": 16,
   "id": "c8dbf1c1-f5e2-42ae-aa04-944b41efa653",
   "metadata": {},
   "outputs": [],
   "source": [
    "#multi threading"
   ]
  },
  {
   "cell_type": "code",
   "execution_count": 17,
   "id": "f0526008-1d2b-4a43-904e-fb53e329014b",
   "metadata": {},
   "outputs": [],
   "source": [
    "#thread= it represent an independent control"
   ]
  },
  {
   "cell_type": "code",
   "execution_count": 18,
   "id": "26775e01-f0b5-4c97-b63e-e717a52edaf2",
   "metadata": {},
   "outputs": [],
   "source": [
    "#multi threading= concurrent execution of threads"
   ]
  },
  {
   "cell_type": "code",
   "execution_count": null,
   "id": "10ca2668-f736-4006-850f-351aeec76bab",
   "metadata": {},
   "outputs": [],
   "source": [
    "real life app= whatsapp, uploading, downloading, multiple tabs in browsers, gui os, timer in application"
   ]
  }
 ],
 "metadata": {
  "kernelspec": {
   "display_name": "Python 3",
   "language": "python",
   "name": "python3"
  },
  "language_info": {
   "codemirror_mode": {
    "name": "ipython",
    "version": 3
   },
   "file_extension": ".py",
   "mimetype": "text/x-python",
   "name": "python",
   "nbconvert_exporter": "python",
   "pygments_lexer": "ipython3",
   "version": "3.8.8"
  }
 },
 "nbformat": 4,
 "nbformat_minor": 5
}
