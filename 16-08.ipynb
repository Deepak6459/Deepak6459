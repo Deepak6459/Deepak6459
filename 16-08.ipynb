{
 "cells": [
  {
   "cell_type": "markdown",
   "id": "0200029f-cd20-442e-ae0a-3b26cd57e2f3",
   "metadata": {},
   "source": [
    "# step-1 import dp specific driver module"
   ]
  },
  {
   "cell_type": "code",
   "execution_count": 12,
   "id": "25608769-7c8d-4dd0-b0a0-eeb118948b59",
   "metadata": {},
   "outputs": [],
   "source": [
    "import pymysql as sql"
   ]
  },
  {
   "cell_type": "markdown",
   "id": "5a71336a-6eea-4495-876d-26f36134690d",
   "metadata": {},
   "source": [
    "# step-2 create connection"
   ]
  },
  {
   "cell_type": "code",
   "execution_count": 13,
   "id": "2dc48398-d244-4727-bd47-1f789bb5c154",
   "metadata": {},
   "outputs": [],
   "source": [
    "con=sql.connect(host='localhost',port=3306,user='root',password='2709',database='4to530')"
   ]
  },
  {
   "cell_type": "markdown",
   "id": "a2c6dce8-1c11-489d-b2c2-ec6f96c4f7ef",
   "metadata": {},
   "source": [
    "# step-3 create cursor "
   ]
  },
  {
   "cell_type": "code",
   "execution_count": 14,
   "id": "1013f478-abae-4663-9587-c5b2305247bf",
   "metadata": {},
   "outputs": [],
   "source": [
    "cur_obj=con.cursor()"
   ]
  },
  {
   "cell_type": "markdown",
   "id": "6b981c6c-099a-4c6a-8304-860431dce0f2",
   "metadata": {},
   "source": [
    "# step-4 executive SQL"
   ]
  },
  {
   "cell_type": "code",
   "execution_count": 16,
   "id": "e2b3dfa5-9668-4109-9b60-5dda189da2f3",
   "metadata": {},
   "outputs": [
    {
     "data": {
      "text/plain": [
       "1"
      ]
     },
     "execution_count": 16,
     "metadata": {},
     "output_type": "execute_result"
    }
   ],
   "source": [
    "cur_obj.execute(\"insert into emp values(200,'krish',2300)\")"
   ]
  },
  {
   "cell_type": "markdown",
   "id": "ab9c26d5-1d67-4fbd-bb43-2c22c8aaeb47",
   "metadata": {},
   "source": [
    "# step-5 commit the con"
   ]
  },
  {
   "cell_type": "code",
   "execution_count": 17,
   "id": "73d0743b-ce5d-4420-8252-99af844afe0f",
   "metadata": {},
   "outputs": [],
   "source": [
    "con.commit()"
   ]
  },
  {
   "cell_type": "markdown",
   "id": "4c5addd7-857a-4c0c-a3ed-786723ffef2b",
   "metadata": {},
   "source": [
    "# close the con"
   ]
  },
  {
   "cell_type": "code",
   "execution_count": 18,
   "id": "156cd73c-cc1a-426d-8ec2-5280bb211ea3",
   "metadata": {},
   "outputs": [],
   "source": [
    "con.close()"
   ]
  },
  {
   "cell_type": "code",
   "execution_count": null,
   "id": "c26e3bbb-8dea-47a6-b6e8-466c7eefae4d",
   "metadata": {},
   "outputs": [],
   "source": []
  }
 ],
 "metadata": {
  "kernelspec": {
   "display_name": "Python 3",
   "language": "python",
   "name": "python3"
  },
  "language_info": {
   "codemirror_mode": {
    "name": "ipython",
    "version": 3
   },
   "file_extension": ".py",
   "mimetype": "text/x-python",
   "name": "python",
   "nbconvert_exporter": "python",
   "pygments_lexer": "ipython3",
   "version": "3.8.8"
  }
 },
 "nbformat": 4,
 "nbformat_minor": 5
}
