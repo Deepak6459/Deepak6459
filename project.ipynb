{
 "cells": [
  {
   "cell_type": "code",
   "execution_count": 1,
   "id": "3f962917-f284-4f43-ad4e-d6edc0101026",
   "metadata": {},
   "outputs": [],
   "source": [
    "from tkinter import *\n",
    "from tkinter.ttk import Combobox,Treeview,Scrollbar,Style\n",
    "from PIL import Image,ImageTk \n"
   ]
  },
  {
   "cell_type": "code",
   "execution_count": 8,
   "id": "4d8af63d-e3b4-4c0a-b384-a0eba191b672",
   "metadata": {},
   "outputs": [],
   "source": [
    "win=Tk()\n",
    "win.state('zoomed')\n",
    "win.configure(bg='white')\n",
    "win.resizable(width=False,height=False)\n",
    "lbl_title=Label(win,text=\"Inventory Managment System\\nThe8Foods\",font=('Algerian',30),bg='white')\n",
    "lbl_title.place(relx=.3,rely=.06)\n",
    "\n",
    "login_img=Image.open(\"D:\\logo.jpeg\").resize((200,200))\n",
    "login_imgtk=ImageTk.PhotoImage(login_img)\n",
    "\n",
    "\n",
    "def main_frame():\n",
    "    \n",
    "    frm=Frame(win,highlightbackground='yellow',highlightthickness=3)\n",
    "    frm.configure(bg='#fcad00')\n",
    "    frm.place(relx=.23,rely=.2,height=500,width=800)\n",
    "    \n",
    "    lbl_login=Label(frm,text='Login ID:',font=('Arial',16,'bold'),bg='#fcad00')\n",
    "    lbl_login.place(relx=.1,rely=.2)\n",
    "\n",
    "    lbl_pass=Label(frm,text='Password:',font=('Arial',16,'bold'),bg='#fcad00')\n",
    "    lbl_pass.place(relx=.1,rely=.4)\n",
    "    \n",
    "    login_entry=Entry(frm,font=('arial',16))\n",
    "    login_entry.place(relx=.1,rely=.3)\n",
    "    \n",
    "    Pass_entry=Entry(frm,font=('arial',16))\n",
    "    Pass_entry.place(relx=.1,rely=.5)\n",
    "    \n",
    "    login_btn=Label(frm,image=login_imgtk,bg='powder blue')\n",
    "    login_btn.place(relx=.55,rely=.25)\n",
    "    \n",
    "    submit_btn=Button(frm,text='Submit',font=('Arial',16,'bold'))\n",
    "    submit_btn.place(relx=.1,rely=.6)\n",
    "    \n",
    "    end_line=Label(frm,text='BY EIGH8 INDUSTRIES',font=('Arial',10,'bold','underline'),bg='#fcad00')\n",
    "    end_line.place(relx=.4,rely=.95)\n",
    "    \n",
    "    \n",
    "    \n",
    "    \n",
    "main_frame()   \n",
    "win.mainloop()"
   ]
  },
  {
   "cell_type": "code",
   "execution_count": null,
   "id": "03285c5d-8724-44df-9571-512f3489e41d",
   "metadata": {},
   "outputs": [],
   "source": [
    "\\"
   ]
  }
 ],
 "metadata": {
  "kernelspec": {
   "display_name": "Python 3",
   "language": "python",
   "name": "python3"
  },
  "language_info": {
   "codemirror_mode": {
    "name": "ipython",
    "version": 3
   },
   "file_extension": ".py",
   "mimetype": "text/x-python",
   "name": "python",
   "nbconvert_exporter": "python",
   "pygments_lexer": "ipython3",
   "version": "3.8.8"
  }
 },
 "nbformat": 4,
 "nbformat_minor": 5
}
